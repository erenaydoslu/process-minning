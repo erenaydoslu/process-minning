{
 "cells": [
  {
   "cell_type": "code",
   "execution_count": null,
   "metadata": {},
   "outputs": [],
   "source": [
    "import pandas as pd\n",
    "from tqdm.notebook import tqdm, trange\n",
    "import datetime"
   ]
  },
  {
   "cell_type": "code",
   "execution_count": null,
   "metadata": {},
   "outputs": [],
   "source": [
    "def fix_time(time):\n",
    "    return datetime.datetime.fromisoformat(time)\n",
    "\n",
    "df = pd.read_csv('BPI_2012.csv')\n",
    "df = df.rename(columns={'Unnamed: 0': 'case_id', 'Unnamed: 1': 'step_number'})\n",
    "df['time:timestamp'] = df['time:timestamp'].apply(fix_time)\n",
    "    \n",
    "df_attr = pd.read_csv('BPI_attr_2012.csv')\n",
    "df_attr = df_attr.rename(columns={'Unnamed: 0': 'case_id'})\n",
    "df_attr['REG_DATE'] = df_attr['REG_DATE'].apply(fix_time)"
   ]
  },
  {
   "cell_type": "code",
   "execution_count": null,
   "metadata": {},
   "outputs": [],
   "source": [
    "limit_date = datetime.datetime(2012, 2, 3, 1, 1, 1, 633000, tzinfo=datetime.timezone(datetime.timedelta(seconds=7200)))"
   ]
  },
  {
   "cell_type": "code",
   "execution_count": null,
   "metadata": {},
   "outputs": [],
   "source": [
    "#training data_set\n",
    "df_train = df\n",
    "#df_train = pd.DataFrame(columns = (df.columns))\n",
    "listo = []\n",
    "for i in tqdm(range(0, 13087)):\n",
    "    if df[df['case_id'] == i].iloc[-1]['time:timestamp'] > limit_date:\n",
    "        listo.append(i)\n",
    "\n",
    "for i in tqdm(range(0, len(listo))):\n",
    "    df_train = df_train.drop(df_train[df_train['case_id']==listo[i]].index)\n",
    "\n",
    "#for i in tqdm(range(0, len(listo))):\n",
    "    #df_train = df_train.append(df[df['case_id'] == listo[i]])\n",
    "\n",
    "df_train = df_train.reset_index(drop = True)"
   ]
  },
  {
   "cell_type": "code",
   "execution_count": null,
   "metadata": {},
   "outputs": [],
   "source": [
    "#testing data_set\n",
    "df_test = pd.DataFrame(columns = (df.columns))\n",
    "listo = []\n",
    "for i in tqdm(range(0, 13087)):\n",
    "    if df[df['case_id'] == i].iloc[0]['time:timestamp'] > limit_date:\n",
    "        listo.append(i)\n",
    "\n",
    "for i in tqdm(range(0, len(listo))):\n",
    "    df_test = df_test.append(df[df['case_id'] == listo[i]])\n",
    "\n",
    "df_test = df_test.reset_index(drop = True)"
   ]
  },
  {
   "cell_type": "code",
   "execution_count": null,
   "metadata": {},
   "outputs": [],
   "source": [
    "df_train"
   ]
  },
  {
   "cell_type": "code",
   "execution_count": null,
   "metadata": {},
   "outputs": [],
   "source": [
    "df_test"
   ]
  }
 ],
 "metadata": {
  "kernelspec": {
   "display_name": "Python 3",
   "language": "python",
   "name": "python3"
  },
  "language_info": {
   "codemirror_mode": {
    "name": "ipython",
    "version": 3
   },
   "file_extension": ".py",
   "mimetype": "text/x-python",
   "name": "python",
   "nbconvert_exporter": "python",
   "pygments_lexer": "ipython3",
   "version": "3.7.3"
  }
 },
 "nbformat": 4,
 "nbformat_minor": 4
}
