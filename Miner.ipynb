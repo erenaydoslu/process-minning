{
 "cells": [
  {
   "cell_type": "code",
   "execution_count": 1,
   "metadata": {},
   "outputs": [],
   "source": [
    "# from pm4py.objects.log.importer.xes import importer as xes_importer\n",
    "import pandas as pd\n",
    "import numpy as np\n",
    "from tqdm.notebook import tqdm, trange\n",
    "import datetime\n",
    "import random\n",
    "import time\n",
    "from sklearn.cluster import KMeans\n",
    "from sklearn.ensemble import RandomForestClassifier\n",
    "from sklearn import preprocessing as pre\n",
    "from sklearn import tree\n",
    "import matplotlib.pyplot as plt\n",
    "from collections import Counter\n",
    "import math"
   ]
  },
  {
   "cell_type": "markdown",
   "metadata": {},
   "source": [
    "### Since the data is already converted, I markdowned the cell below. \n",
    "\n",
    "### This is how did we convert the .xes into .csv"
   ]
  },
  {
   "cell_type": "markdown",
   "metadata": {},
   "source": [
    "#XES TO CSV\n",
    "xesToCsv_BPI = xes_importer.apply(\"Datasets/BPI_Challenge_2012.xes\")\n",
    "\n",
    "xesToCsv_listo = []\n",
    "xesToCsv_dic = {'no': -1}\n",
    "xesToCsv_prev_attr = 'no'\n",
    "xesToCsv_counter = 0\n",
    "xesToCsv_cur_attr = 'no'\n",
    "\n",
    "for i in tqdm(range(0, len(xesToCsv_BPI))):\n",
    "\n",
    "    for j in range(0, len(xesToCsv_BPI[i])):\n",
    "        xesToCsv_attr_list = list(xesToCsv_BPI[i][j])\n",
    "    \n",
    "        for k in range(0, len(xesToCsv_attr_list)):\n",
    "            xesToCsv_prev_attr = xesToCsv_cur_attr\n",
    "            xesToCsv_cur_attr = xesToCsv_attr_list[k]\n",
    "\n",
    "            if xesToCsv_cur_attr not in xesToCsv_listo:\n",
    "                xesToCsv_value = xesToCsv_dic[xesToCsv_prev_attr] + 1\n",
    "            \n",
    "                for key in xesToCsv_dic:\n",
    "                    if xesToCsv_dic[key] >= xesToCsv_value:\n",
    "                        xesToCsv_dic[key] += 1\n",
    "            \n",
    "                xesToCsv_dic[xesToCsv_cur_attr] = xesToCsv_value\n",
    "                xesToCsv_listo.insert(xesToCsv_value, xesToCsv_cur_attr)\n",
    "        \n",
    "        xesToCsv_cur_attr = 'no'\n",
    "        \n",
    "        \n",
    "xesToCsv_chain = []\n",
    "xesToCsv_event = []\n",
    "\n",
    "for i in tqdm(range(0, len(xesToCsv_BPI))):\n",
    "    for j in range(0, len(xesToCsv_BPI[i])):\n",
    "        xesToCsv_chain.append(i)\n",
    "        xesToCsv_event.append(j)\n",
    "        \n",
    "xesToCsv_df_BPI= pd.DataFrame(index=[np.array(xesToCsv_chain), np.array(xesToCsv_event)], columns = xesToCsv_listo)\n",
    "\n",
    "for i in tqdm(range(0, len(xesToCsv_BPI))):\n",
    "    \n",
    "    for j in range(0, len(xesToCsv_BPI[i])):\n",
    "\n",
    "        xesToCsv_attr = xesToCsv_BPI[i][j]\n",
    "        \n",
    "        for a in xesToCsv_attr:\n",
    "            xesToCsv_df_BPI.loc[(i, j), a] = xesToCsv_attr[a]\n",
    "            \n",
    "            \n",
    "xesToCsv_df_BPI.to_csv('Datasets/BPI_2012.csv')\n",
    "\n",
    "xesToCsv_attr_listo = []\n",
    "xesToCsv_attr_dic = {'no': -1}\n",
    "xesToCsv_prev_attr = 'no'\n",
    "xesToCsv_counter = 0\n",
    "xesToCsv_cur_attr = 'no'\n",
    "\n",
    "for i in tqdm(range(0, len(xesToCsv_BPI))):\n",
    "    xesToCsv_attr_list = list(xesToCsv_BPI[i].attributes)\n",
    "    \n",
    "    for k in range(0, len(xesToCsv_attr_list)):\n",
    "        xesToCsv_prev_attr = xesToCsv_cur_attr\n",
    "        xesToCsv_cur_attr = xesToCsv_attr_list[k]\n",
    "\n",
    "        if xesToCsv_cur_attr not in xesToCsv_attr_listo:\n",
    "            xesToCsv_value = xesToCsv_attr_dic[xesToCsv_prev_attr] + 1\n",
    "            \n",
    "            for key in xesToCsv_attr_dic:\n",
    "                if xesToCsv_attr_dic[key] >= xesToCsv_value:\n",
    "                    xesToCsv_attr_dic[key] += 1\n",
    "            \n",
    "            xesToCsv_attr_dic[xesToCsv_cur_attr] = xesToCsv_value\n",
    "            xesToCsv_attr_listo.insert(xesToCsv_value, xesToCsv_cur_attr)\n",
    "    \n",
    "    xesToCsv_cur_attr = 'no'\n",
    "    \n",
    "    \n",
    "xesToCsv_attr_chain = []\n",
    "\n",
    "for i in tqdm(range(0, len(xesToCsv_BPI))):\n",
    "    xesToCsv_attr_chain.append(i)\n",
    "    \n",
    "\n",
    "xesToCsv_df_BPI_attr = pd.DataFrame(index = [np.array(xesToCsv_attr_chain)], columns = xesToCsv_attr_listo)\n",
    "\n",
    "\n",
    "for i in tqdm(range(0, len(xesToCsv_BPI))):\n",
    "\n",
    "    xesToCsv_attr = xesToCsv_BPI[i].attributes\n",
    "    \n",
    "    for a in xesToCsv_attr:\n",
    "        xesToCsv_df_BPI_attr.loc[i, a] = xesToCsv_attr[a]\n",
    "        \n",
    "xesToCsv_df_BPI_attr.to_csv('Datasets/BPI_attr_2012.csv')\n",
    "\n",
    "if 'Unnamed: 0' in xesToCsv_df_BPI.columns:\n",
    "    xesToCsv_df_BPI = xesToCsv_df_BPI.rename(columns={'Unnamed: 0': 'case_id', 'Unnamed: 1': 'step_number'})\n",
    "    xesToCsv_df_BPI_attr = xesToCsv_df_BPI_attr.rename(columns={'Unnamed: 0': 'case_id'})"
   ]
  },
  {
   "cell_type": "markdown",
   "metadata": {},
   "source": [
    "## Data loading:"
   ]
  },
  {
   "cell_type": "markdown",
   "metadata": {},
   "source": [
    "Loads the data with some safety-features for common mishaps we had"
   ]
  },
  {
   "cell_type": "code",
   "execution_count": 2,
   "metadata": {},
   "outputs": [],
   "source": [
    "def fix_time(time):\n",
    "    return (datetime.datetime.fromisoformat(time))\n",
    "\n",
    "def load_data(BPI = 'BPI.csv', BPI_attr = 'BPI_attr.csv',  data2012 = False, sample=False):\n",
    "    df_BPI = pd.read_csv(BPI)\n",
    "    df_BPI_attr = pd.read_csv(BPI_attr)\n",
    "    \n",
    "    if 'Unnamed: 0' in df_BPI.columns:\n",
    "        df_BPI = df_BPI.rename(columns={'Unnamed: 0': 'case_id', 'Unnamed: 1': 'step_number'})\n",
    "        df_BPI_attr = df_BPI_attr.rename(columns={'Unnamed: 0': 'case_id'})\n",
    "    \n",
    "    df_BPI['time:timestamp'] = df_BPI['time:timestamp'].apply(fix_time)\n",
    "\n",
    "    if data2012:\n",
    "        df_BPI_attr['REG_DATE'] = df_BPI_attr['REG_DATE'].apply(fix_time)\n",
    "    \n",
    "    df_BPI['time:weekday'] = [x.weekday() for x in df_BPI['time:timestamp']]\n",
    "    df_BPI['time:hour'] = [x.hour for x in df_BPI['time:timestamp']]\n",
    "    \n",
    "    if(sample):\n",
    "        df_BPI, df_BPI_attr = df_BPI[:50000], df_BPI_attr[:2359]\n",
    "    \n",
    "    return (df_BPI, df_BPI_attr)\n",
    "\n",
    "def load_data_xes(data):\n",
    "    BPI = xes_importer.apply(data)"
   ]
  },
  {
   "cell_type": "code",
   "execution_count": 3,
   "metadata": {},
   "outputs": [
    {
     "data": {
      "text/html": [
       "<div>\n",
       "<style scoped>\n",
       "    .dataframe tbody tr th:only-of-type {\n",
       "        vertical-align: middle;\n",
       "    }\n",
       "\n",
       "    .dataframe tbody tr th {\n",
       "        vertical-align: top;\n",
       "    }\n",
       "\n",
       "    .dataframe thead th {\n",
       "        text-align: right;\n",
       "    }\n",
       "</style>\n",
       "<table border=\"1\" class=\"dataframe\">\n",
       "  <thead>\n",
       "    <tr style=\"text-align: right;\">\n",
       "      <th></th>\n",
       "      <th>case_id</th>\n",
       "      <th>step_number</th>\n",
       "      <th>org:resource</th>\n",
       "      <th>lifecycle:transition</th>\n",
       "      <th>concept:name</th>\n",
       "      <th>time:timestamp</th>\n",
       "      <th>time:weekday</th>\n",
       "      <th>time:hour</th>\n",
       "    </tr>\n",
       "  </thead>\n",
       "  <tbody>\n",
       "    <tr>\n",
       "      <td>0</td>\n",
       "      <td>0</td>\n",
       "      <td>0</td>\n",
       "      <td>112.0</td>\n",
       "      <td>COMPLETE</td>\n",
       "      <td>A_SUBMITTED</td>\n",
       "      <td>2011-10-01 00:38:44.546000+02:00</td>\n",
       "      <td>5</td>\n",
       "      <td>0</td>\n",
       "    </tr>\n",
       "    <tr>\n",
       "      <td>1</td>\n",
       "      <td>0</td>\n",
       "      <td>1</td>\n",
       "      <td>112.0</td>\n",
       "      <td>COMPLETE</td>\n",
       "      <td>A_PARTLYSUBMITTED</td>\n",
       "      <td>2011-10-01 00:38:44.880000+02:00</td>\n",
       "      <td>5</td>\n",
       "      <td>0</td>\n",
       "    </tr>\n",
       "    <tr>\n",
       "      <td>2</td>\n",
       "      <td>0</td>\n",
       "      <td>2</td>\n",
       "      <td>112.0</td>\n",
       "      <td>COMPLETE</td>\n",
       "      <td>A_PREACCEPTED</td>\n",
       "      <td>2011-10-01 00:39:37.906000+02:00</td>\n",
       "      <td>5</td>\n",
       "      <td>0</td>\n",
       "    </tr>\n",
       "    <tr>\n",
       "      <td>3</td>\n",
       "      <td>0</td>\n",
       "      <td>3</td>\n",
       "      <td>112.0</td>\n",
       "      <td>SCHEDULE</td>\n",
       "      <td>W_Completeren aanvraag</td>\n",
       "      <td>2011-10-01 00:39:38.875000+02:00</td>\n",
       "      <td>5</td>\n",
       "      <td>0</td>\n",
       "    </tr>\n",
       "    <tr>\n",
       "      <td>4</td>\n",
       "      <td>0</td>\n",
       "      <td>4</td>\n",
       "      <td>NaN</td>\n",
       "      <td>START</td>\n",
       "      <td>W_Completeren aanvraag</td>\n",
       "      <td>2011-10-01 11:36:46.437000+02:00</td>\n",
       "      <td>5</td>\n",
       "      <td>11</td>\n",
       "    </tr>\n",
       "    <tr>\n",
       "      <td>...</td>\n",
       "      <td>...</td>\n",
       "      <td>...</td>\n",
       "      <td>...</td>\n",
       "      <td>...</td>\n",
       "      <td>...</td>\n",
       "      <td>...</td>\n",
       "      <td>...</td>\n",
       "      <td>...</td>\n",
       "    </tr>\n",
       "    <tr>\n",
       "      <td>49995</td>\n",
       "      <td>2358</td>\n",
       "      <td>25</td>\n",
       "      <td>11181.0</td>\n",
       "      <td>START</td>\n",
       "      <td>W_Completeren aanvraag</td>\n",
       "      <td>2011-11-07 17:19:57.689000+01:00</td>\n",
       "      <td>0</td>\n",
       "      <td>17</td>\n",
       "    </tr>\n",
       "    <tr>\n",
       "      <td>49996</td>\n",
       "      <td>2358</td>\n",
       "      <td>26</td>\n",
       "      <td>11181.0</td>\n",
       "      <td>COMPLETE</td>\n",
       "      <td>W_Completeren aanvraag</td>\n",
       "      <td>2011-11-07 17:21:37.466000+01:00</td>\n",
       "      <td>0</td>\n",
       "      <td>17</td>\n",
       "    </tr>\n",
       "    <tr>\n",
       "      <td>49997</td>\n",
       "      <td>2358</td>\n",
       "      <td>27</td>\n",
       "      <td>NaN</td>\n",
       "      <td>START</td>\n",
       "      <td>W_Completeren aanvraag</td>\n",
       "      <td>2011-11-08 10:39:15.079000+01:00</td>\n",
       "      <td>1</td>\n",
       "      <td>10</td>\n",
       "    </tr>\n",
       "    <tr>\n",
       "      <td>49998</td>\n",
       "      <td>2358</td>\n",
       "      <td>28</td>\n",
       "      <td>NaN</td>\n",
       "      <td>COMPLETE</td>\n",
       "      <td>W_Completeren aanvraag</td>\n",
       "      <td>2011-11-08 10:40:29.255000+01:00</td>\n",
       "      <td>1</td>\n",
       "      <td>10</td>\n",
       "    </tr>\n",
       "    <tr>\n",
       "      <td>49999</td>\n",
       "      <td>2358</td>\n",
       "      <td>29</td>\n",
       "      <td>11181.0</td>\n",
       "      <td>START</td>\n",
       "      <td>W_Completeren aanvraag</td>\n",
       "      <td>2011-11-08 18:43:29.748000+01:00</td>\n",
       "      <td>1</td>\n",
       "      <td>18</td>\n",
       "    </tr>\n",
       "  </tbody>\n",
       "</table>\n",
       "<p>50000 rows × 8 columns</p>\n",
       "</div>"
      ],
      "text/plain": [
       "       case_id  step_number  org:resource lifecycle:transition  \\\n",
       "0            0            0         112.0             COMPLETE   \n",
       "1            0            1         112.0             COMPLETE   \n",
       "2            0            2         112.0             COMPLETE   \n",
       "3            0            3         112.0             SCHEDULE   \n",
       "4            0            4           NaN                START   \n",
       "...        ...          ...           ...                  ...   \n",
       "49995     2358           25       11181.0                START   \n",
       "49996     2358           26       11181.0             COMPLETE   \n",
       "49997     2358           27           NaN                START   \n",
       "49998     2358           28           NaN             COMPLETE   \n",
       "49999     2358           29       11181.0                START   \n",
       "\n",
       "                 concept:name                    time:timestamp  time:weekday  \\\n",
       "0                 A_SUBMITTED  2011-10-01 00:38:44.546000+02:00             5   \n",
       "1           A_PARTLYSUBMITTED  2011-10-01 00:38:44.880000+02:00             5   \n",
       "2               A_PREACCEPTED  2011-10-01 00:39:37.906000+02:00             5   \n",
       "3      W_Completeren aanvraag  2011-10-01 00:39:38.875000+02:00             5   \n",
       "4      W_Completeren aanvraag  2011-10-01 11:36:46.437000+02:00             5   \n",
       "...                       ...                               ...           ...   \n",
       "49995  W_Completeren aanvraag  2011-11-07 17:19:57.689000+01:00             0   \n",
       "49996  W_Completeren aanvraag  2011-11-07 17:21:37.466000+01:00             0   \n",
       "49997  W_Completeren aanvraag  2011-11-08 10:39:15.079000+01:00             1   \n",
       "49998  W_Completeren aanvraag  2011-11-08 10:40:29.255000+01:00             1   \n",
       "49999  W_Completeren aanvraag  2011-11-08 18:43:29.748000+01:00             1   \n",
       "\n",
       "       time:hour  \n",
       "0              0  \n",
       "1              0  \n",
       "2              0  \n",
       "3              0  \n",
       "4             11  \n",
       "...          ...  \n",
       "49995         17  \n",
       "49996         17  \n",
       "49997         10  \n",
       "49998         10  \n",
       "49999         18  \n",
       "\n",
       "[50000 rows x 8 columns]"
      ]
     },
     "execution_count": 3,
     "metadata": {},
     "output_type": "execute_result"
    }
   ],
   "source": [
    "df, df_attr = load_data(BPI = 'Datasets/BPI_2012.csv', BPI_attr = 'Datasets/BPI_attr_2012.csv', \n",
    "                        data2012 = True, sample=True)\n",
    "df"
   ]
  },
  {
   "cell_type": "markdown",
   "metadata": {},
   "source": [
    "## Data splitting:"
   ]
  },
  {
   "cell_type": "markdown",
   "metadata": {},
   "source": [
    "The bellow code splits the data and saves it. This code takes around 9 minutes to run. Thus we have added the pre-split data to the zip file, which can be loaded in the next part."
   ]
  },
  {
   "cell_type": "code",
   "execution_count": 4,
   "metadata": {},
   "outputs": [],
   "source": [
    "def data_split(df : pd.DataFrame, amount_train_data = 0.8, amount_validation_data = 0.2) -> tuple:\n",
    "    '''Plug in the df and train and validation data percentages\n",
    "    \n",
    "    Why do we have a split into 3 dataframes and only 2 percantages here?'''\n",
    "    \n",
    "    splitData_df = df.rename(columns={'Unnamed: 0': 'case_id', 'Unnamed: 1': 'step_number'})\n",
    "    splitData_df_attr = df_attr.rename(columns={'Unnamed: 0': 'case_id'})\n",
    "    \n",
    "    splitData_limit_date = splitData_df[splitData_df['case_id'] \n",
    "    == round(splitData_df.iloc[-1, 0]*amount_train_data)].iloc[0]['time:timestamp']\n",
    "    #splitData_limit_date = datetime.datetime(2012, 2, 3, 1, 1, 1, 633000, \n",
    "                                         #tzinfo=datetime.timezone(datetime.timedelta(seconds=7200)))\n",
    "\n",
    "    #training data_set\n",
    "    splitData_df_train = splitData_df\n",
    "    splitData_listo = []\n",
    "\n",
    "    for i in tqdm(range(0, 13087)):\n",
    "        if splitData_df[splitData_df['case_id'] == i].iloc[-1]['time:timestamp'] > splitData_limit_date:\n",
    "            splitData_listo.append(i)\n",
    "\n",
    "    for i in tqdm(range(0, len(splitData_listo))):\n",
    "        splitData_df_train = splitData_df_train.drop(splitData_df_train[splitData_df_train['case_id'] == splitData_listo[i]].index)\n",
    "\n",
    "    splitData_df_train = splitData_df_train.reset_index(drop = True)\n",
    "    \n",
    "    #validation data_set\n",
    "    mask = np.random.rand(len(splitData_df_train)) < amount_validation_data\n",
    "    splitData_df_validation = splitData_df_train[mask]\n",
    "    splitData_df_train = splitData_df_train[~mask]\n",
    "\n",
    "    #testing data_set\n",
    "    splitData_df_test = pd.DataFrame(columns = (splitData_df.columns))\n",
    "    splitData_listo = []\n",
    "\n",
    "    for i in tqdm(range(0, 13087)):\n",
    "        if splitData_df[splitData_df['case_id'] == i].iloc[0]['time:timestamp'] > splitData_limit_date:\n",
    "            splitData_listo.append(i)\n",
    "\n",
    "    for i in tqdm(range(0, len(splitData_listo))):\n",
    "        splitData_df_test = splitData_df_test.append(splitData_df[splitData_df['case_id'] == splitData_listo[i]])\n",
    "\n",
    "    splitData_df_test = splitData_df_test.reset_index(drop = True)\n",
    "    \n",
    "    return(splitData_df_train, splitData_df_validation, splitData_df_test)"
   ]
  },
  {
   "cell_type": "markdown",
   "metadata": {},
   "source": [
    "Using the sample data for this split:"
   ]
  },
  {
   "cell_type": "code",
   "execution_count": null,
   "metadata": {},
   "outputs": [],
   "source": [
    "df_train, df_validation, df_test = data_split(df)"
   ]
  },
  {
   "cell_type": "code",
   "execution_count": null,
   "metadata": {},
   "outputs": [],
   "source": [
    "df_train.to_csv('Datasets/trainExample.csv')\n",
    "df_validation.to_csv('Datasets/validationExample.csv')\n",
    "df_test.to_csv('Datasets/testExample.csv')"
   ]
  },
  {
   "cell_type": "markdown",
   "metadata": {},
   "source": [
    "## Load the training, validation and test data:"
   ]
  },
  {
   "cell_type": "code",
   "execution_count": null,
   "metadata": {},
   "outputs": [],
   "source": [
    "df_train, df_validation, df_test = pd.read_csv('Datasets/trainExample.csv'), pd.read_csv('Datasets/validationExample.csv'), pd.read_csv('Datasets/testExample.csv')"
   ]
  },
  {
   "cell_type": "markdown",
   "metadata": {},
   "source": [
    "## Baseline:\n",
    "\n",
    "### Pre-processing part:"
   ]
  },
  {
   "cell_type": "code",
   "execution_count": 9,
   "metadata": {},
   "outputs": [],
   "source": [
    "def changing_columns_names(df : pd.DataFrame, data2012=True, data2017=False):\n",
    "    '''so far only works with the 2012 dataframe'''\n",
    "    \n",
    "    if(data2012):\n",
    "        df.columns = ['case_id', 'step_number', 'org:resource', 'lifecycle:transition',\n",
    "                      'concept:name', 'time:timestamp', 'time:weekday', 'time:hour']\n",
    "    elif(data2017):\n",
    "        df.columns = ['case_id', 'step_number', 'OfferID', 'Action', 'FirstWithdrawalAmount', 'NumberOfTerms', 'Accepted', \n",
    "                      'org:resource', 'concept:name', 'MonthlyCost', 'EventOrigin', 'EventID', 'Selected', 'CreditScore', \n",
    "                      'lifecycle:transition', 'OfferedAmount', 'time:timestamp', 'time:weekday', 'time:hour']\n",
    "    \n",
    "    return(df)\n",
    "\n",
    "#Erasing all the non-complete actions from the database:\n",
    "def erasing_noncomplete(df : pd.DataFrame, data2012=True, data2017=False):\n",
    "    '''Performance depends on the type of the input dataframe\n",
    "    \n",
    "    Not so wise!\n",
    "    \n",
    "    Event class: conceptname+lifecycletransition'''\n",
    "    \n",
    "    if(data2012):\n",
    "        df = df[df['lifecycle:transition'] == 'COMPLETE']\n",
    "        df = df.reset_index(drop=True)\n",
    "    elif(data2017):\n",
    "        df = df[df['lifecycle:transition'] == 'complete']\n",
    "        df = df.reset_index(drop=True)\n",
    "        \n",
    "    return(df)\n",
    "\n",
    "def compute_time_difference(df : pd.DataFrame):\n",
    "    '''Set the time difference column\n",
    "    This function is places here because of the erased non-complete actions\n",
    "    \n",
    "    It has been a no-input, no-return function, so I fixed this ~ Rav'''\n",
    "\n",
    "    df['time:time_between'] = df['time:timestamp'].diff()\n",
    "    df.loc[df['step_number'] == 0, 'time:time_between'] = pd.Timedelta(0)\n",
    "    \n",
    "    return(df)\n",
    "\n",
    "def preprocessing(df, data2012=True, data2017=False):\n",
    "    '''runs the above 3 functions'''\n",
    "    \n",
    "    df = changing_columns_names(df, data2012, data2017)\n",
    "    df = erasing_noncomplete(df, data2012, data2017)\n",
    "    df = compute_time_difference(df)\n",
    "    \n",
    "    return(df)"
   ]
  },
  {
   "cell_type": "markdown",
   "metadata": {},
   "source": [
    "## Baseline\n",
    "\n",
    "### The algorithm's functions (only run 'baseline', it has the other ones embedded)"
   ]
  },
  {
   "cell_type": "code",
   "execution_count": 7,
   "metadata": {},
   "outputs": [],
   "source": [
    "def creating_dict_for_next_step_stats (df : pd.DataFrame, concept_name : str) -> dict:\n",
    "    '''For an input action checks for all the possible next actions and counts their occurence'''\n",
    "    \n",
    "    dic_occurrence = {}\n",
    "    dic_total_time = {}\n",
    "    ids = list(df['case_id']) + ['editor: last id'] #Otherwise we check i+1-th position that does not exist\n",
    "    times = list(df['time:time_between']) + [pd.Timedelta(0)] #Otherwise we check i+1-th position that does not exist\n",
    "    names = df['concept:name']\n",
    "    df_concept = df[names == concept_name]\n",
    "    \n",
    "    for i, row in df_concept.iterrows():\n",
    "        \n",
    "        if (ids[i] == ids[i+1]): #an instance of the same case\n",
    "            \n",
    "            if (names[i+1] not in dic_occurrence):\n",
    "                dic_occurrence[names[i+1]] = 1\n",
    "                dic_total_time[names[i+1]] = times[i+1]\n",
    "            else:\n",
    "                dic_occurrence[names[i+1]] += 1\n",
    "                dic_total_time[names[i+1]] += times[i+1]\n",
    "                \n",
    "        else: #the last instance of the case\n",
    "            \n",
    "            if ('editor: close_case' not in dic_occurrence):\n",
    "                dic_occurrence['editor: close_case'] = 1\n",
    "                dic_total_time['editor: close_case'] = times[i+1]\n",
    "            else:\n",
    "                dic_occurrence['editor: close_case'] += 1\n",
    "                dic_total_time['editor: close_case'] += times[i+1]\n",
    "    \n",
    "    #Compute average time\n",
    "    dic_avg_time = {}\n",
    "    \n",
    "    for key in dic_total_time:\n",
    "        dic_avg_time[key] = dic_total_time[key] / dic_occurrence[key]\n",
    "        \n",
    "    return(dic_occurrence, dic_avg_time)\n",
    "\n",
    "def choosing_next_action(dic : dict):\n",
    "    '''Finds the max value of the input dict and returns the key of the max value'''\n",
    "    \n",
    "    max_key = max(dic, key=dic.get)\n",
    "    return(max_key)\n",
    "\n",
    "\n",
    "def cycles_shortcut(actions : list, concept_name : str, max_length : int, printing = False) -> list or bool:\n",
    "    '''For saving the operating time, we will try to terminate the baseline early if we get into a loop\n",
    "    max_length is the longest_trace parameter'''\n",
    "    \n",
    "    if(concept_name in actions): #the action has already been done\n",
    "        \n",
    "        if(actions[-1] == concept_name): #and it's the most recent action (self-loop)\n",
    "            \n",
    "            while(len(actions) < max_length): #filling the rest of the list with the current action if we're in a self-loop\n",
    "                actions.append(concept_name)\n",
    "        \n",
    "        else: #it is not the most recent action\n",
    "            placement = actions.index(concept_name) #locating the index of the \"duplicate\"\n",
    "            aid_array = actions[placement:] #copying the values\n",
    "            if (pritning):\n",
    "                pass\n",
    "                print(\"aid_array = \", aid_array)\n",
    "            \n",
    "            actions = actions + [0] * (max_length-len(actions)) #making [x, y, z, x] into [x, y, z, x, 0, 0, 0, ...]\n",
    "            if (printing):\n",
    "                pass\n",
    "                print(\"actions = \", actions)\n",
    "            \n",
    "            for i in range(placement+1, max_length): #iterating only over all the indices of 0's in actions\n",
    "                actions[i] = aid_array[(i-placement)%len(aid_array)] #copying the list's values over and over again\n",
    "        \n",
    "        return(actions) #This return has to be then the return of the iterated_expected_actions\n",
    "    \n",
    "    else:\n",
    "        return(False)\n",
    "\n",
    "def iterating_expected_actions(df : pd.DataFrame, concept_name : str, n : int) -> list:\n",
    "    '''concept_name is the starting point (first action)\n",
    "    n is the length of the longest trace ever observed\n",
    "    It is stored in lonest_trace but for runtime reasons, use n so far\n",
    "    \n",
    "    Is the function even used anywhere? May I delete it safely?'''\n",
    "    \n",
    "    longest_trace = max(df['step_number']) #finding the longest trace in the database (nr of steps)\n",
    "    #note that we determine this AFTER deleting some rows with uncomplete steps. We should be running this on full df\n",
    "    \n",
    "    i = 0\n",
    "    actions = [concept_name] #Here is the list that will store all the subsequent actions the algorithm decices to perform\n",
    "    while (i < n): #terminate if we are exceeding the max number of steps\n",
    "        wow = creating_dict_for_next_step_stats(df, concept_name)[0] #list all possible options\n",
    "        concept_name = choosing_next_action(wow) #Choose the most commonly used option\n",
    "        \n",
    "        if(cycles_shortcut(actions, concept_name, n) != False): #Checks if we are stuck in a loop\n",
    "            print(\"we are stuck in a loop\")\n",
    "            return(cycles_shortcut(actions, concept_name, n))\n",
    "        \n",
    "        if(concept_name == 'editor: close_case'): #If it is the \"terminate\" option - terminate\n",
    "            break\n",
    "        actions.append(concept_name) #Add the action to the list\n",
    "        i += 1\n",
    "    \n",
    "    actions.append('editor: close_case')\n",
    "    #print('i = ', i, \"n = \", n)\n",
    "    \n",
    "    return(actions)\n",
    "\n",
    "def add_expected_events(df : pd.DataFrame) -> list:\n",
    "    all_events = df['concept:name'].unique()\n",
    "    next_event_name_dic = {'editor: close_case': 'editor: close_case'}\n",
    "    next_event_duration_dic = {'editor: close_case': pd.Timedelta(0)}\n",
    "    \n",
    "    for event in all_events:\n",
    "        next_step_stats = creating_dict_for_next_step_stats(df, event)\n",
    "        wow = next_step_stats[0] #list all possible options\n",
    "        concept_name = choosing_next_action(wow) #Choose the most commonly used option\n",
    "        next_event_name_dic[event] = concept_name\n",
    "        next_event_duration_dic[event] = next_step_stats[1][concept_name]\n",
    "    \n",
    "    return next_event_name_dic, next_event_duration_dic\n",
    "\n",
    "def baseline(df : pd.DataFrame, save_to_csv = False) -> pd.DataFrame:\n",
    "    '''Runs all the necessary functions to add the predictions to the input dataframe\n",
    "    \n",
    "    Where is the longest trace accounted for?'''\n",
    "    \n",
    "    #Adding next expected events:\n",
    "    all_expected_events = add_expected_events(df)\n",
    "    df['expect:next_event'] = df['concept:name'].map(all_expected_events[0])\n",
    "    \n",
    "    #Adding next expected times:\n",
    "    loop_max = df.shape[0]\n",
    "    next_time = [0] * loop_max\n",
    "    mapa = df['concept:name'].map(all_expected_events[1])\n",
    "    for i in tqdm(range(0, loop_max)):\n",
    "        next_time[i] = mapa[i] + df['time:timestamp'][i]\n",
    "    \n",
    "    df['expect:next_time'] = next_time\n",
    "    \n",
    "    #Saving the results to a csv\n",
    "    if (save_to_csv):\n",
    "        df.to_csv('BPI_with_predictions.csv')\n",
    "    \n",
    "    return(df)"
   ]
  },
  {
   "cell_type": "markdown",
   "metadata": {},
   "source": [
    "## Baseline\n",
    "\n",
    "### Executions:"
   ]
  },
  {
   "cell_type": "code",
   "execution_count": 10,
   "metadata": {},
   "outputs": [],
   "source": [
    "df = preprocessing(df)"
   ]
  },
  {
   "cell_type": "code",
   "execution_count": 11,
   "metadata": {},
   "outputs": [
    {
     "data": {
      "application/vnd.jupyter.widget-view+json": {
       "model_id": "0b05f86333564f37b32659b522576333",
       "version_major": 2,
       "version_minor": 0
      },
      "text/plain": [
       "HBox(children=(IntProgress(value=0, max=31354), HTML(value='')))"
      ]
     },
     "metadata": {},
     "output_type": "display_data"
    },
    {
     "name": "stdout",
     "output_type": "stream",
     "text": [
      "\n"
     ]
    },
    {
     "data": {
      "text/html": [
       "<div>\n",
       "<style scoped>\n",
       "    .dataframe tbody tr th:only-of-type {\n",
       "        vertical-align: middle;\n",
       "    }\n",
       "\n",
       "    .dataframe tbody tr th {\n",
       "        vertical-align: top;\n",
       "    }\n",
       "\n",
       "    .dataframe thead th {\n",
       "        text-align: right;\n",
       "    }\n",
       "</style>\n",
       "<table border=\"1\" class=\"dataframe\">\n",
       "  <thead>\n",
       "    <tr style=\"text-align: right;\">\n",
       "      <th></th>\n",
       "      <th>case_id</th>\n",
       "      <th>step_number</th>\n",
       "      <th>org:resource</th>\n",
       "      <th>lifecycle:transition</th>\n",
       "      <th>concept:name</th>\n",
       "      <th>time:timestamp</th>\n",
       "      <th>time:weekday</th>\n",
       "      <th>time:hour</th>\n",
       "      <th>time:time_between</th>\n",
       "      <th>expect:next_event</th>\n",
       "      <th>expect:next_time</th>\n",
       "    </tr>\n",
       "  </thead>\n",
       "  <tbody>\n",
       "    <tr>\n",
       "      <td>0</td>\n",
       "      <td>0</td>\n",
       "      <td>0</td>\n",
       "      <td>112.0</td>\n",
       "      <td>COMPLETE</td>\n",
       "      <td>A_SUBMITTED</td>\n",
       "      <td>2011-10-01 00:38:44.546000+02:00</td>\n",
       "      <td>5</td>\n",
       "      <td>0</td>\n",
       "      <td>0 days 00:00:00</td>\n",
       "      <td>A_PARTLYSUBMITTED</td>\n",
       "      <td>2011-10-01 00:38:45.081682916+02:00</td>\n",
       "    </tr>\n",
       "    <tr>\n",
       "      <td>1</td>\n",
       "      <td>0</td>\n",
       "      <td>1</td>\n",
       "      <td>112.0</td>\n",
       "      <td>COMPLETE</td>\n",
       "      <td>A_PARTLYSUBMITTED</td>\n",
       "      <td>2011-10-01 00:38:44.880000+02:00</td>\n",
       "      <td>5</td>\n",
       "      <td>0</td>\n",
       "      <td>0 days 00:00:00.334000</td>\n",
       "      <td>A_PREACCEPTED</td>\n",
       "      <td>2011-10-01 02:14:44.768804623+02:00</td>\n",
       "    </tr>\n",
       "    <tr>\n",
       "      <td>2</td>\n",
       "      <td>0</td>\n",
       "      <td>2</td>\n",
       "      <td>112.0</td>\n",
       "      <td>COMPLETE</td>\n",
       "      <td>A_PREACCEPTED</td>\n",
       "      <td>2011-10-01 00:39:37.906000+02:00</td>\n",
       "      <td>5</td>\n",
       "      <td>0</td>\n",
       "      <td>0 days 00:00:53.026000</td>\n",
       "      <td>W_Completeren aanvraag</td>\n",
       "      <td>2011-10-01 07:18:44.186544061+02:00</td>\n",
       "    </tr>\n",
       "    <tr>\n",
       "      <td>3</td>\n",
       "      <td>0</td>\n",
       "      <td>5</td>\n",
       "      <td>10862.0</td>\n",
       "      <td>COMPLETE</td>\n",
       "      <td>A_ACCEPTED</td>\n",
       "      <td>2011-10-01 11:42:43.308000+02:00</td>\n",
       "      <td>5</td>\n",
       "      <td>11</td>\n",
       "      <td>0 days 11:03:05.402000</td>\n",
       "      <td>O_SELECTED</td>\n",
       "      <td>2011-10-01 11:46:23.516856427+02:00</td>\n",
       "    </tr>\n",
       "    <tr>\n",
       "      <td>4</td>\n",
       "      <td>0</td>\n",
       "      <td>6</td>\n",
       "      <td>10862.0</td>\n",
       "      <td>COMPLETE</td>\n",
       "      <td>O_SELECTED</td>\n",
       "      <td>2011-10-01 11:45:09.243000+02:00</td>\n",
       "      <td>5</td>\n",
       "      <td>11</td>\n",
       "      <td>0 days 00:02:25.935000</td>\n",
       "      <td>A_FINALIZED</td>\n",
       "      <td>2011-10-01 11:45:09.243316139+02:00</td>\n",
       "    </tr>\n",
       "    <tr>\n",
       "      <td>...</td>\n",
       "      <td>...</td>\n",
       "      <td>...</td>\n",
       "      <td>...</td>\n",
       "      <td>...</td>\n",
       "      <td>...</td>\n",
       "      <td>...</td>\n",
       "      <td>...</td>\n",
       "      <td>...</td>\n",
       "      <td>...</td>\n",
       "      <td>...</td>\n",
       "      <td>...</td>\n",
       "    </tr>\n",
       "    <tr>\n",
       "      <td>31349</td>\n",
       "      <td>2358</td>\n",
       "      <td>20</td>\n",
       "      <td>10912.0</td>\n",
       "      <td>COMPLETE</td>\n",
       "      <td>W_Completeren aanvraag</td>\n",
       "      <td>2011-11-05 14:06:43.201000+01:00</td>\n",
       "      <td>5</td>\n",
       "      <td>14</td>\n",
       "      <td>3 days 17:45:33.820000</td>\n",
       "      <td>W_Completeren aanvraag</td>\n",
       "      <td>2011-11-06 23:25:43.211556867+01:00</td>\n",
       "    </tr>\n",
       "    <tr>\n",
       "      <td>31350</td>\n",
       "      <td>2358</td>\n",
       "      <td>22</td>\n",
       "      <td>NaN</td>\n",
       "      <td>COMPLETE</td>\n",
       "      <td>W_Completeren aanvraag</td>\n",
       "      <td>2011-11-07 14:51:51.016000+01:00</td>\n",
       "      <td>0</td>\n",
       "      <td>14</td>\n",
       "      <td>2 days 00:45:07.815000</td>\n",
       "      <td>W_Completeren aanvraag</td>\n",
       "      <td>2011-11-09 00:10:51.026556867+01:00</td>\n",
       "    </tr>\n",
       "    <tr>\n",
       "      <td>31351</td>\n",
       "      <td>2358</td>\n",
       "      <td>24</td>\n",
       "      <td>11181.0</td>\n",
       "      <td>COMPLETE</td>\n",
       "      <td>W_Completeren aanvraag</td>\n",
       "      <td>2011-11-07 17:11:59.889000+01:00</td>\n",
       "      <td>0</td>\n",
       "      <td>17</td>\n",
       "      <td>0 days 02:20:08.873000</td>\n",
       "      <td>W_Completeren aanvraag</td>\n",
       "      <td>2011-11-09 02:30:59.899556867+01:00</td>\n",
       "    </tr>\n",
       "    <tr>\n",
       "      <td>31352</td>\n",
       "      <td>2358</td>\n",
       "      <td>26</td>\n",
       "      <td>11181.0</td>\n",
       "      <td>COMPLETE</td>\n",
       "      <td>W_Completeren aanvraag</td>\n",
       "      <td>2011-11-07 17:21:37.466000+01:00</td>\n",
       "      <td>0</td>\n",
       "      <td>17</td>\n",
       "      <td>0 days 00:09:37.577000</td>\n",
       "      <td>W_Completeren aanvraag</td>\n",
       "      <td>2011-11-09 02:40:37.476556867+01:00</td>\n",
       "    </tr>\n",
       "    <tr>\n",
       "      <td>31353</td>\n",
       "      <td>2358</td>\n",
       "      <td>28</td>\n",
       "      <td>NaN</td>\n",
       "      <td>COMPLETE</td>\n",
       "      <td>W_Completeren aanvraag</td>\n",
       "      <td>2011-11-08 10:40:29.255000+01:00</td>\n",
       "      <td>1</td>\n",
       "      <td>10</td>\n",
       "      <td>0 days 17:18:51.789000</td>\n",
       "      <td>W_Completeren aanvraag</td>\n",
       "      <td>2011-11-09 19:59:29.265556867+01:00</td>\n",
       "    </tr>\n",
       "  </tbody>\n",
       "</table>\n",
       "<p>31354 rows × 11 columns</p>\n",
       "</div>"
      ],
      "text/plain": [
       "       case_id  step_number  org:resource lifecycle:transition  \\\n",
       "0            0            0         112.0             COMPLETE   \n",
       "1            0            1         112.0             COMPLETE   \n",
       "2            0            2         112.0             COMPLETE   \n",
       "3            0            5       10862.0             COMPLETE   \n",
       "4            0            6       10862.0             COMPLETE   \n",
       "...        ...          ...           ...                  ...   \n",
       "31349     2358           20       10912.0             COMPLETE   \n",
       "31350     2358           22           NaN             COMPLETE   \n",
       "31351     2358           24       11181.0             COMPLETE   \n",
       "31352     2358           26       11181.0             COMPLETE   \n",
       "31353     2358           28           NaN             COMPLETE   \n",
       "\n",
       "                 concept:name                    time:timestamp  time:weekday  \\\n",
       "0                 A_SUBMITTED  2011-10-01 00:38:44.546000+02:00             5   \n",
       "1           A_PARTLYSUBMITTED  2011-10-01 00:38:44.880000+02:00             5   \n",
       "2               A_PREACCEPTED  2011-10-01 00:39:37.906000+02:00             5   \n",
       "3                  A_ACCEPTED  2011-10-01 11:42:43.308000+02:00             5   \n",
       "4                  O_SELECTED  2011-10-01 11:45:09.243000+02:00             5   \n",
       "...                       ...                               ...           ...   \n",
       "31349  W_Completeren aanvraag  2011-11-05 14:06:43.201000+01:00             5   \n",
       "31350  W_Completeren aanvraag  2011-11-07 14:51:51.016000+01:00             0   \n",
       "31351  W_Completeren aanvraag  2011-11-07 17:11:59.889000+01:00             0   \n",
       "31352  W_Completeren aanvraag  2011-11-07 17:21:37.466000+01:00             0   \n",
       "31353  W_Completeren aanvraag  2011-11-08 10:40:29.255000+01:00             1   \n",
       "\n",
       "       time:hour      time:time_between       expect:next_event  \\\n",
       "0              0        0 days 00:00:00       A_PARTLYSUBMITTED   \n",
       "1              0 0 days 00:00:00.334000           A_PREACCEPTED   \n",
       "2              0 0 days 00:00:53.026000  W_Completeren aanvraag   \n",
       "3             11 0 days 11:03:05.402000              O_SELECTED   \n",
       "4             11 0 days 00:02:25.935000             A_FINALIZED   \n",
       "...          ...                    ...                     ...   \n",
       "31349         14 3 days 17:45:33.820000  W_Completeren aanvraag   \n",
       "31350         14 2 days 00:45:07.815000  W_Completeren aanvraag   \n",
       "31351         17 0 days 02:20:08.873000  W_Completeren aanvraag   \n",
       "31352         17 0 days 00:09:37.577000  W_Completeren aanvraag   \n",
       "31353         10 0 days 17:18:51.789000  W_Completeren aanvraag   \n",
       "\n",
       "                          expect:next_time  \n",
       "0      2011-10-01 00:38:45.081682916+02:00  \n",
       "1      2011-10-01 02:14:44.768804623+02:00  \n",
       "2      2011-10-01 07:18:44.186544061+02:00  \n",
       "3      2011-10-01 11:46:23.516856427+02:00  \n",
       "4      2011-10-01 11:45:09.243316139+02:00  \n",
       "...                                    ...  \n",
       "31349  2011-11-06 23:25:43.211556867+01:00  \n",
       "31350  2011-11-09 00:10:51.026556867+01:00  \n",
       "31351  2011-11-09 02:30:59.899556867+01:00  \n",
       "31352  2011-11-09 02:40:37.476556867+01:00  \n",
       "31353  2011-11-09 19:59:29.265556867+01:00  \n",
       "\n",
       "[31354 rows x 11 columns]"
      ]
     },
     "execution_count": 11,
     "metadata": {},
     "output_type": "execute_result"
    }
   ],
   "source": [
    "baseline(df, save_to_csv=False) #Will only take one short loading slider to load"
   ]
  },
  {
   "cell_type": "markdown",
   "metadata": {},
   "source": [
    "## Performance testing:"
   ]
  },
  {
   "cell_type": "markdown",
   "metadata": {},
   "source": [
    "Set sample datasets of the below sizes to test the runtime of any algorithm on them:"
   ]
  },
  {
   "cell_type": "code",
   "execution_count": 12,
   "metadata": {},
   "outputs": [],
   "source": [
    "def runtime_calculation(df : pd.DataFrame, is_baseline : bool, lengths : list) -> list:\n",
    "    '''Splits the input dataframe into a couple smaller ones, nr of rows indicated by limits (list)'''\n",
    "    \n",
    "    runtimes = [0] * len(lengths)\n",
    "    if (is_baseline):\n",
    "        for i in range(0, len(lengths)):\n",
    "            print(i, lengths[i])\n",
    "            df = df[:lengths[i]]\n",
    "            time_start = time.time()\n",
    "            baseline(df, save_to_csv=False) #TO DO: check for the longest trace in the dataset\n",
    "            time_end = time.time()\n",
    "            runtimes[i] = time_end-time_start\n",
    "    else:\n",
    "        for i in range(0, len(lengths)):\n",
    "            print(i, lengths[i])\n",
    "            \n",
    "            #Warning: not operational so far! df_split doesn't work on the sample dataset!\n",
    "            df_train, df_validation, df_test = data_split(df)\n",
    "            \n",
    "            ratio_train = df_train.shape[0] / df.shape[0]\n",
    "            rows_train = math.floor(lengths[i] * ratio_train)\n",
    "            \n",
    "            df_train, df_test = df[:rows_train], df[rows_train:]\n",
    "            \n",
    "            time_start = time.time()\n",
    "            cluster_tree_predict(df_train, df_test)\n",
    "            time_end = time.time()\n",
    "            runtimes[i] = time_end-time_start\n",
    "    \n",
    "    return(runtimes)"
   ]
  },
  {
   "cell_type": "code",
   "execution_count": 16,
   "metadata": {},
   "outputs": [
    {
     "name": "stdout",
     "output_type": "stream",
     "text": [
      "0 100000\n"
     ]
    },
    {
     "data": {
      "application/vnd.jupyter.widget-view+json": {
       "model_id": "2177c2fdcbdf4d5691c63adcb901e31e",
       "version_major": 2,
       "version_minor": 0
      },
      "text/plain": [
       "HBox(children=(IntProgress(value=0, max=31354), HTML(value='')))"
      ]
     },
     "metadata": {},
     "output_type": "display_data"
    },
    {
     "name": "stdout",
     "output_type": "stream",
     "text": [
      "\n",
      "1 50000\n"
     ]
    },
    {
     "data": {
      "application/vnd.jupyter.widget-view+json": {
       "model_id": "db4921c346054e2b928a05c48d835a94",
       "version_major": 2,
       "version_minor": 0
      },
      "text/plain": [
       "HBox(children=(IntProgress(value=0, max=31354), HTML(value='')))"
      ]
     },
     "metadata": {},
     "output_type": "display_data"
    },
    {
     "name": "stdout",
     "output_type": "stream",
     "text": [
      "\n",
      "2 20000\n"
     ]
    },
    {
     "data": {
      "application/vnd.jupyter.widget-view+json": {
       "model_id": "4123387ea9894fa0bc4fd5e9056d7441",
       "version_major": 2,
       "version_minor": 0
      },
      "text/plain": [
       "HBox(children=(IntProgress(value=0, max=20000), HTML(value='')))"
      ]
     },
     "metadata": {},
     "output_type": "display_data"
    },
    {
     "name": "stdout",
     "output_type": "stream",
     "text": [
      "\n",
      "3 10000\n"
     ]
    },
    {
     "data": {
      "application/vnd.jupyter.widget-view+json": {
       "model_id": "cf4ab67b8b3e48518e3761bb721a41b1",
       "version_major": 2,
       "version_minor": 0
      },
      "text/plain": [
       "HBox(children=(IntProgress(value=0, max=10000), HTML(value='')))"
      ]
     },
     "metadata": {},
     "output_type": "display_data"
    },
    {
     "name": "stdout",
     "output_type": "stream",
     "text": [
      "\n",
      "4 5000\n"
     ]
    },
    {
     "data": {
      "application/vnd.jupyter.widget-view+json": {
       "model_id": "87ce8c3c4f7a40dd9e977e012c15bbc4",
       "version_major": 2,
       "version_minor": 0
      },
      "text/plain": [
       "HBox(children=(IntProgress(value=0, max=5000), HTML(value='')))"
      ]
     },
     "metadata": {},
     "output_type": "display_data"
    },
    {
     "name": "stdout",
     "output_type": "stream",
     "text": [
      "\n",
      "5 2000\n"
     ]
    },
    {
     "data": {
      "application/vnd.jupyter.widget-view+json": {
       "model_id": "ead2f043ecfd4a4984baf1da7bb9f849",
       "version_major": 2,
       "version_minor": 0
      },
      "text/plain": [
       "HBox(children=(IntProgress(value=0, max=2000), HTML(value='')))"
      ]
     },
     "metadata": {},
     "output_type": "display_data"
    },
    {
     "name": "stdout",
     "output_type": "stream",
     "text": [
      "\n",
      "6 1000\n"
     ]
    },
    {
     "data": {
      "application/vnd.jupyter.widget-view+json": {
       "model_id": "94ff08fa93fe4b13a54d5facf3447af9",
       "version_major": 2,
       "version_minor": 0
      },
      "text/plain": [
       "HBox(children=(IntProgress(value=0, max=1000), HTML(value='')))"
      ]
     },
     "metadata": {},
     "output_type": "display_data"
    },
    {
     "name": "stdout",
     "output_type": "stream",
     "text": [
      "\n",
      "7 500\n"
     ]
    },
    {
     "data": {
      "application/vnd.jupyter.widget-view+json": {
       "model_id": "0edb148576284053ae25df264f3f98b4",
       "version_major": 2,
       "version_minor": 0
      },
      "text/plain": [
       "HBox(children=(IntProgress(value=0, max=500), HTML(value='')))"
      ]
     },
     "metadata": {},
     "output_type": "display_data"
    },
    {
     "name": "stdout",
     "output_type": "stream",
     "text": [
      "\n",
      "8 200\n"
     ]
    },
    {
     "data": {
      "application/vnd.jupyter.widget-view+json": {
       "model_id": "fc265071342846c8ae29b7564c7658fc",
       "version_major": 2,
       "version_minor": 0
      },
      "text/plain": [
       "HBox(children=(IntProgress(value=0, max=200), HTML(value='')))"
      ]
     },
     "metadata": {},
     "output_type": "display_data"
    },
    {
     "name": "stdout",
     "output_type": "stream",
     "text": [
      "\n",
      "9 100\n"
     ]
    },
    {
     "data": {
      "application/vnd.jupyter.widget-view+json": {
       "model_id": "fc7f48d94d8444aba5ec2147ebf90b78",
       "version_major": 2,
       "version_minor": 0
      },
      "text/plain": [
       "HBox(children=(IntProgress(value=0), HTML(value='')))"
      ]
     },
     "metadata": {},
     "output_type": "display_data"
    },
    {
     "name": "stdout",
     "output_type": "stream",
     "text": [
      "\n",
      "10 50\n"
     ]
    },
    {
     "data": {
      "application/vnd.jupyter.widget-view+json": {
       "model_id": "8172ea903e484a78a27b124ae81e887e",
       "version_major": 2,
       "version_minor": 0
      },
      "text/plain": [
       "HBox(children=(IntProgress(value=0, max=50), HTML(value='')))"
      ]
     },
     "metadata": {},
     "output_type": "display_data"
    },
    {
     "name": "stdout",
     "output_type": "stream",
     "text": [
      "\n"
     ]
    }
   ],
   "source": [
    "#Always order the limits descending!\n",
    "#Also, using 100k on the sample df is worthless, it essentially repeats the 50k baseline\n",
    "limits = [100000, 50000, 20000, 10000, 5000, 2000, 1000, 500, 200, 100, 50] #length=10\n",
    "\n",
    "baseline_runtimes = runtime_calculation(df, is_baseline=True, lengths=limits)"
   ]
  },
  {
   "cell_type": "markdown",
   "metadata": {},
   "source": [
    "### The cell below needs fixing!"
   ]
  },
  {
   "cell_type": "code",
   "execution_count": null,
   "metadata": {},
   "outputs": [],
   "source": [
    "limits = [1000, 500, 200, 100, 50]\n",
    "\n",
    "runtimes_cluster_tree = runtime_calculation(df, lengths=limits, is_baseline=False)"
   ]
  },
  {
   "cell_type": "markdown",
   "metadata": {},
   "source": [
    "Plotting its runtimes:"
   ]
  },
  {
   "cell_type": "code",
   "execution_count": 17,
   "metadata": {},
   "outputs": [],
   "source": [
    "def plot_results(limits : list, runtimes : list, is_baseline : bool) -> None:\n",
    "    '''Just plots the runtimes'''\n",
    "    \n",
    "    f, (ax1, ax2) = plt.subplots(1, 2, figsize=(18,6))\n",
    "    \n",
    "    ax1.scatter(x=limits, y=runtimes, color='#420CDA')\n",
    "    ax1.set_xlabel('Input size [n]', fontsize=13)\n",
    "    ax1.set_ylabel('Operating time [s]', fontsize=13)\n",
    "    \n",
    "    ax2.scatter(x=limits, y=runtimes, color='#AB3334')\n",
    "    ax2.set_xlabel('Input size [log(n)]', fontsize=13)\n",
    "    ax2.set_ylabel('Operating time [log(s)]', fontsize=13)\n",
    "    ax2.set_xscale(\"log\")\n",
    "    ax2.set_yscale(\"log\")\n",
    "    \n",
    "    if(is_baseline):\n",
    "        ax1.set_title('Runtime of the baseline algorithm', fontsize=16)\n",
    "        ax2.set_title(\"Runtime of the baseline algorithm (log scale)\", fontsize=16)\n",
    "    else:\n",
    "        ax1.set_title(\"Runtime of the cluster-tree algorithm\", fontsize=16)\n",
    "        ax2.set_title(\"Runtime of the cluster-tree algorithm (log scale)\", fontsize=16)"
   ]
  },
  {
   "cell_type": "code",
   "execution_count": 18,
   "metadata": {},
   "outputs": [
    {
     "data": {
      "image/png": "[encoded data removed]",
      "text/plain": [
       "<Figure size 1296x432 with 2 Axes>"
      ]
     },
     "metadata": {
      "needs_background": "light"
     },
     "output_type": "display_data"
    }
   ],
   "source": [
    "plot_results(limits=limits, runtimes=baseline_runtimes, is_baseline=True)"
   ]
  },
  {
   "cell_type": "markdown",
   "metadata": {},
   "source": [
    "### Assessing the accuracy of predictions:"
   ]
  },
  {
   "cell_type": "markdown",
   "metadata": {},
   "source": [
    "Since this is essentially the data split once again, should we keep it? Sven, iirc you were responsible for this part, it takes like 15 minutes on my PC. Can't we get rid of some parts? ~ Rav"
   ]
  },
  {
   "cell_type": "code",
   "execution_count": null,
   "metadata": {},
   "outputs": [],
   "source": [
    "#Testing the Baseline\n",
    "\n",
    "testingBaseline_df, testingBaseline_df_attr = load_data(BPI = 'Datasets/BPI_2012.csv', BPI_attr = 'Datasets/BPI_attr_2012.csv', data2012 = True)\n",
    "testingBaseline_df = preprocessing(testingBaseline_df)\n",
    "\n",
    "#Also, tqdm iterates exactly over 13087 rows here, why is it so? Won't this be incompatible with non-2012 data?\n",
    "\n",
    "\n",
    "#amount of total data that is training data:\n",
    "testingBaseline_train_data = 0.8\n",
    "#amount of train data that is validation data:\n",
    "testingBaseline_validation_data = 0.1\n",
    "\n",
    "testingBaseline_limit_date = testingBaseline_df[testingBaseline_df['case_id'] == round(testingBaseline_df.iloc[-1, 0]*testingBaseline_train_data)].iloc[0]['time:timestamp']\n",
    "#limit_date = datetime.datetime(2012, 2, 3, 1, 1, 1, 633000, tzinfo=datetime.timezone(datetime.timedelta(seconds=7200))) \n",
    "\n",
    "#training data_set\n",
    "testingBaseline_df_train = testingBaseline_df\n",
    "testingBaseline_listo = []\n",
    "\n",
    "for i in tqdm(range(0, 13087)):\n",
    "    if testingBaseline_df[testingBaseline_df['case_id'] == i].iloc[-1]['time:timestamp'] > testingBaseline_limit_date:\n",
    "        testingBaseline_listo.append(i)\n",
    "\n",
    "for i in tqdm(range(0, len(testingBaseline_listo))):\n",
    "    testingBaseline_df_train = testingBaseline_df_train.drop(testingBaseline_df_train[testingBaseline_df_train['case_id']==testingBaseline_listo[i]].index)\n",
    "\n",
    "testingBaseline_df_train = testingBaseline_df_train.reset_index(drop = True)\n",
    "\n",
    "#splitting training dataset into validation and training dataset\n",
    "testingBaseline_mask = np.random.rand(len(testingBaseline_df_train)) < testingBaseline_validation_data\n",
    "testingBaseline_df_validation = testingBaseline_df_train[testingBaseline_mask]\n",
    "testingBaseline_df_train = testingBaseline_df_train[~testingBaseline_mask]\n",
    "\n",
    "#testing data_set\n",
    "testingBaseline_df_test = pd.DataFrame(columns = (testingBaseline_df.columns))\n",
    "testingBaseline_listo = []\n",
    "\n",
    "for i in tqdm(range(0, 13087)):\n",
    "    if testingBaseline_df[testingBaseline_df['case_id'] == i].iloc[0]['time:timestamp'] > testingBaseline_limit_date:\n",
    "        testingBaseline_listo.append(i)\n",
    "\n",
    "for i in tqdm(range(0, len(testingBaseline_listo))):\n",
    "    testingBaseline_df_test = testingBaseline_df_test.append(testingBaseline_df[testingBaseline_df['case_id'] == testingBaseline_listo[i]])\n",
    "\n",
    "testingBaseline_df_test = testingBaseline_df_test.reset_index(drop = True)\n",
    "\n",
    "testingBaseline_df_train.to_csv('BPI_2012_train', index=False)\n",
    "\n",
    "testingBaseline_df_validation.to_csv('BPI_2012_validation')\n",
    "\n",
    "testingBaseline_df_test.to_csv('BPI_2012_test', index=False)"
   ]
  },
  {
   "cell_type": "markdown",
   "metadata": {},
   "source": [
    "A simple function to print out some statistics of a model (?)"
   ]
  },
  {
   "cell_type": "code",
   "execution_count": null,
   "metadata": {},
   "outputs": [],
   "source": [
    "def timely_statistics(df_tree : pd.DataFrame, relative : bool, statistic : str) -> None:\n",
    "    '''I automated the prints below ~ Rav\n",
    "    possibly invoke with:\n",
    "    for element in [(False, 'mean'), (False, 'median'), (True, 'mean'), (True, 'median')]:\n",
    "        timely_statistics(df, relative=element[0], statistic=element[1])'''\n",
    "    \n",
    "    if(statistic == 'mean' and relative == False):\n",
    "        seconds1, seconds2 = df_tree['time:absolute_prediction_off'].mean(), df_tree['time:absolute_prediction_correct'].mean()\n",
    "        minutes1, hours1, days1, minutes2, hours2, days2 = seconds1/60, seconds1/3600, seconds1/86400, seconds2/60, seconds2/3600, seconds2/86400\n",
    "        print('absolute off mean: ' + str(seconds1) + ', ' + str(minutes1) + ', ' + str(hours1) + ', ' + str(days1))\n",
    "        print('absolute correct mean: ' + str(seconds2) + ', ' + str(minutes2) + ', ' + str(hours2) + ', ' + str(days2))\n",
    "        \n",
    "    if(statistic == 'median' and relative == False):\n",
    "        seconds1, seconds2 = df_tree['time:absolute_prediction_off'].median(), df_tree['time:absolute_prediction_correct'].median()\n",
    "        minutes1, hours1, days1, minutes2, hours2, days2 = seconds1/60, seconds1/3600, seconds1/86400, seconds2/60, seconds2/3600, seconds2/86400\n",
    "        print('absolute off median: ' + str(seconds1) + ', ' + str(minutes1) + ', ' + str(hours1) + ', ' + str(days1))\n",
    "        print('absolute correct median: ' + str(seconds2) + ', ' + str(minutes2) + ', ' + str(hours2) + ', ' + str(days2))\n",
    "        \n",
    "    if(statistic == 'mean' and relative==True):\n",
    "        df_tree['time:absolute_prediction_off'].hist(bins=10)\n",
    "        seconds1, seconds2 = df_tree['time:relative_prediction_off'].mean(), df_tree['time:relative_prediction_correct'].mean()\n",
    "        minutes1, hours1, days1, minutes2, hours2, days2 = seconds1/60, seconds1/3600, seconds1/86400, seconds2/60, seconds2/3600, seconds2/86400\n",
    "        print('relative off mean: ' + str(seconds1) + ', ' + str(minutes1) + ', ' + str(hours1) + ', ' + str(days1))\n",
    "        print('relative correct mean: ' + str(seconds2) + ', ' + str(minutes2) + ', ' + str(hours2) + ', ' + str(days2))\n",
    "        \n",
    "    if(statistic == 'median' and relative==True):\n",
    "        df_tree['time:absolute_prediction_off'].hist(bins=10)\n",
    "        seconds1, seconds2 = df_tree['time:relative_prediction_off'].median(), df_tree['time:relative_prediction_correct'].median()\n",
    "        minutes1, hours1, days1, minutes2, hours2, days2 = seconds1/60, seconds1/3600, seconds1/86400, seconds2/60, seconds2/3600, seconds2/86400\n",
    "        print('relative off median: ' + str(seconds1) + ', ' + str(minutes1) + ', ' + str(hours1) + ', ' + str(days1))\n",
    "        print('relative correct median: ' + str(seconds2) + ', ' + str(minutes2) + ', ' + str(hours2) + ', ' + str(days2))"
   ]
  },
  {
   "cell_type": "code",
   "execution_count": null,
   "metadata": {},
   "outputs": [],
   "source": [
    "testingBaseline_df_train = pd.read_csv('BPI_2012_train')\n",
    "testingBaseline_df_train['time:timestamp'] = testingBaseline_df_train['time:timestamp'].apply(fix_time)\n",
    "testingBaseline_df_train['time:time_between'] = testingBaseline_df_train['time:timestamp'].diff()\n",
    "testingBaseline_df_train.loc[testingBaseline_df['step_number'] == 0, 'time:time_between'] = pd.Timedelta(0)\n",
    "\n",
    "testingBaseline_df_test = pd.read_csv('BPI_2012_test')\n",
    "testingBaseline_df_test['time:timestamp'] = testingBaseline_df_test['time:timestamp'].apply(fix_time)\n",
    "testingBaseline_df_test['time:time_between'] = testingBaseline_df_test['time:timestamp'].diff()\n",
    "testingBaseline_df_test.loc[testingBaseline_df['step_number'] == 0, 'time:time_between'] = pd.Timedelta(0)\n",
    "\n",
    "#creates column with predicted data\n",
    "def prediction(prev):\n",
    "    return baseline_all_expected_events[0][prev]\n",
    "\n",
    "testingBaseline_df_test['predicted'] = testingBaseline_df_test['concept:name'].apply(prediction)\n",
    "\n",
    "#function that creates the 'correct' using a dataframe, the predcting column and the true column, it shows wether the prediction was correct\n",
    "testingBaseline_df_test['shifted_actual'] = testingBaseline_df_test['concept:name'].shift(-1)\n",
    "testingBaseline_df_test['shifted_case_id'] = testingBaseline_df_test['case_id'].shift(-1)\n",
    "    \n",
    "def apply_function(var):\n",
    "    if var[2] == var[3]:\n",
    "        return (var[0] == var[1])\n",
    "        \n",
    "    else:\n",
    "        return (var[0] == 'editor:close_case')\n",
    "        \n",
    "testingBaseline_df_test['correct'] = testingBaseline_df_test[['predicted', 'shifted_actual', 'case_id', 'shifted_case_id']].apply(apply_function, axis=1)\n",
    "testingBaseline_df_test = testingBaseline_df_test.drop(['shifted_actual', 'shifted_case_id'], axis=1)\n",
    "\n",
    "def prediction(prev):\n",
    "    return baseline_all_expected_events[1][prev]\n",
    "\n",
    "testingBaseline_df_test['time:between_predicted'] = testingBaseline_df_test['concept:name'].apply(prediction)\n",
    "\n",
    "#create column with absolute difference between predicted time and actual time\n",
    "def time_difference(var):\n",
    "    return abs((var[0] - var[1]).total_seconds())\n",
    "\n",
    "def time_difference_if_correct(var):\n",
    "    if var[0]:\n",
    "        return abs((var[1] - var[2]).total_seconds())\n",
    "    else:\n",
    "        return 0\n",
    "\n",
    "testingBaseline_df_test['time:absolute_prediction_off'] = testingBaseline_df_test[['time:time_between', 'time:between_predicted']].apply(time_difference, axis=1)\n",
    "testingBaseline_df_test['time:absolute_prediction_correct'] = testingBaseline_df_test[['correct', 'time:time_between', 'time:between_predicted']].apply(time_difference_if_correct, axis=1)\n",
    "\n",
    "#create column with relative difference between predicted time and actual time\n",
    "def time_difference(var):\n",
    "    return (var[0] - var[1]).total_seconds()\n",
    "\n",
    "def time_difference_if_correct(var):\n",
    "    if var[0]:\n",
    "        return (var[1] - var[2]).total_seconds()\n",
    "    else:\n",
    "        return 0\n",
    "\n",
    "testingBaseline_df_test['time:relative_prediction_off'] = testingBaseline_df_test[['time:time_between', 'time:between_predicted']].apply(time_difference, axis=1)\n",
    "testingBaseline_df_test['time:relative_prediction_correct'] = testingBaseline_df_test[['correct', 'time:time_between', 'time:between_predicted']].apply(time_difference_if_correct, axis=1)\n",
    "\n",
    "\n",
    "#Changed the code below to this to clean up the notebook. For refernce/troubleshooting, below code is markdowned, not erased\n",
    "for element in [(False, 'mean'), (False, 'median'), (True, 'mean'), (True, 'median')]:\n",
    "    timely_statistics(testingBaseline_df_test, relative=element[0], statistic=element[1])"
   ]
  },
  {
   "cell_type": "markdown",
   "metadata": {},
   "source": [
    "## Triagram method"
   ]
  },
  {
   "cell_type": "code",
   "execution_count": 1,
   "metadata": {},
   "outputs": [
    {
     "ename": "NameError",
     "evalue": "name 'pd' is not defined",
     "output_type": "error",
     "traceback": [
      "\u001b[1;31m---------------------------------------------------------------------------\u001b[0m",
      "\u001b[1;31mNameError\u001b[0m                                 Traceback (most recent call last)",
      "\u001b[1;32m<ipython-input-1-b71880af395c>\u001b[0m in \u001b[0;36m<module>\u001b[1;34m\u001b[0m\n\u001b[1;32m----> 1\u001b[1;33m \u001b[1;32mdef\u001b[0m \u001b[0mapply_triagram\u001b[0m\u001b[1;33m(\u001b[0m\u001b[0mdf\u001b[0m \u001b[1;33m:\u001b[0m \u001b[0mpd\u001b[0m\u001b[1;33m.\u001b[0m\u001b[0mDataFrame\u001b[0m\u001b[1;33m,\u001b[0m \u001b[0mlifecycle_name\u001b[0m \u001b[1;33m=\u001b[0m \u001b[1;34m'lifecycle:transition P'\u001b[0m\u001b[1;33m,\u001b[0m \u001b[0mconcept_name\u001b[0m \u001b[1;33m=\u001b[0m \u001b[1;34m'concept:name P'\u001b[0m\u001b[1;33m)\u001b[0m \u001b[1;33m->\u001b[0m \u001b[0mpd\u001b[0m\u001b[1;33m.\u001b[0m\u001b[0mDataFrame\u001b[0m\u001b[1;33m:\u001b[0m\u001b[1;33m\u001b[0m\u001b[1;33m\u001b[0m\u001b[0m\n\u001b[0m\u001b[0;32m      2\u001b[0m     '''creates row lifecycle_name (called 'lifecycle:transition P' by default\n\u001b[0;32m      3\u001b[0m     and concept_name (called 'concept:name P' by default, which contains the prediction we know for certain.\n\u001b[0;32m      4\u001b[0m     If a value can not be predicted like this it is given the np.nan value'''\n\u001b[0;32m      5\u001b[0m \u001b[1;33m\u001b[0m\u001b[0m\n",
      "\u001b[1;31mNameError\u001b[0m: name 'pd' is not defined"
     ]
    }
   ],
   "source": [
    "def apply_triagram(df : pd.DataFrame, lifecycle_name = 'lifecycle:transition P', concept_name = 'concept:name P') -> pd.DataFrame:\n",
    "    '''creates row lifecycle_name (called 'lifecycle:transition P' by default\n",
    "    and concept_name (called 'concept:name P' by default, which contains the prediction we know for certain.\n",
    "    If a value can not be predicted like this it is given the np.nan value'''\n",
    "    \n",
    "    df['concept:name S1'] = df['concept:name'].shift(1)\n",
    "    df['concept:name S2'] = df['concept:name'].shift(2)\n",
    "    df['lifecycle:transition S1'] = df['lifecycle:transition'].shift(1)\n",
    "    df['lifecycle:transition S2'] = df['lifecycle:transition'].shift(2)\n",
    "    df['case_id S1'] = df['case_id'].shift(1)\n",
    "    df['case_id S2'] = df['case_id'].shift(2)\n",
    "\n",
    "\n",
    "    first_case = df['step_number'] == 0\n",
    "    second_case = df['step_number'] == 1\n",
    "\n",
    "    triagram1 = df['lifecycle:transition S1']+df['lifecycle:transition S2'] == 'COMPLETESCHEDULE'\n",
    "    triagram2 = df['concept:name S1']+df['concept:name S1'] == 'WW'\n",
    "    triagram3 = df['concept:name S1'] != df['concept:name S1']\n",
    "    triagram4 = df['case_id'] == df['case_id S1']\n",
    "    triagram5 = df['case_id'] == df['case_id S2']\n",
    "\n",
    "    df['lifecycle:transition P'] = np.nan\n",
    "    df['concept:name P'] = np.nan\n",
    "\n",
    "    df.loc[first_case, lifecycle_name] = 'COMPLETE'\n",
    "    df.loc[second_case, lifecycle_name] = 'COMPLETE'\n",
    "    df.loc[(triagram1&triagram2&triagram3&triagram4&triagram5), 'concept:name P'] = 'START'\n",
    "\n",
    "    df.loc[first_case, concept_name] = 'A_SUBMITTED'\n",
    "    df.loc[second_case, concept_name] = 'A_PARTLYSUBMITTED'\n",
    "    df.loc[(triagram1&triagram2&triagram3&triagram4&triagram5), 'concept:name P'] = df.loc[(triagram1&triagram2&triagram3&triagram4&triagram5), 'concept:name S2']\n",
    "\n",
    "    df = df.drop(['concept:name S1', 'concept:name S2', 'lifecycle:transition S1', 'lifecycle:transition S2', 'case_id S1', 'case_id S2'], axis=1)\n",
    "    \n",
    "    return df"
   ]
  },
  {
   "cell_type": "code",
   "execution_count": null,
   "metadata": {},
   "outputs": [],
   "source": [
    "df = apply_triagram(df)"
   ]
  },
  {
   "cell_type": "markdown",
   "metadata": {},
   "source": [
    "### Model"
   ]
  },
  {
   "cell_type": "code",
   "execution_count": null,
   "metadata": {},
   "outputs": [],
   "source": [
    "def prepare_dataframe_for_clustering(raw_df):\n",
    "    df = raw_df.copy()\n",
    "    \n",
    "    #Prepare the time between columns\n",
    "    df['time:timestamp'] = df['time:timestamp'].apply(fix_time)\n",
    "    df[\"time:time_between\"] = df[\"time:timestamp\"].diff()\n",
    "    df.loc[df['step_number'] == 0, 'time:time_between'] = pd.Timedelta(0)\n",
    "    df[\"time:time_between\"] = [int(x.total_seconds()) for x in df[\"time:time_between\"]]\n",
    "    \n",
    "    #Prepare the next event column\n",
    "    df[\"next_event\"] = df[\"concept:name\"]\n",
    "    df.loc[df['step_number'] == 0, 'next_event'] = 'editor: close_case'\n",
    "    df[\"next_event\"] = df[\"next_event\"].shift(-1)\n",
    "    df.loc[len(df) - 1, 'next_event'] = 'editor: close_case'\n",
    "    \n",
    "    return df"
   ]
  },
  {
   "cell_type": "code",
   "execution_count": null,
   "metadata": {},
   "outputs": [],
   "source": [
    "def prepare_column_for_clustering(case_id_column, cluster_column, unique_values):\n",
    "    grouped_df = pd.DataFrame({'case_id': case_id_column, 'column': cluster_column})\n",
    "    \n",
    "    for val in unique_values:\n",
    "        grouped_df[val] = 0\n",
    "        grouped_df.loc[grouped_df['column'] == val, val] = 1\n",
    "    \n",
    "    return grouped_df[['case_id'] + list(unique_values)]"
   ]
  },
  {
   "cell_type": "code",
   "execution_count": null,
   "metadata": {},
   "outputs": [],
   "source": [
    "def get_clusters(prepared_rows):\n",
    "    kmeans = KMeans(n_clusters=NR_OF_CLUSTERS)\n",
    "    \n",
    "    unique_columns = list(prepared_rows.columns)\n",
    "    unique_columns.pop(0)\n",
    "\n",
    "    df_grouped = prepared_rows.groupby('case_id')[unique_columns].sum()\n",
    "    kmeans.fit(df_grouped[unique_columns])\n",
    "    prediction = kmeans.labels_\n",
    "    unique_case_ids = prepared_rows['case_id'].unique()\n",
    "    return prepared_rows.case_id.map({unique_case_ids[i]: prediction[i] for i in range(len(prediction))}), kmeans"
   ]
  },
  {
   "cell_type": "code",
   "execution_count": null,
   "metadata": {},
   "outputs": [],
   "source": [
    "def get_tree(df, clusters):\n",
    "    event_model = RandomForestClassifier(n_estimators=100, max_depth=10)\n",
    "    time_model = RandomForestClassifier(n_estimators=100, max_depth=10)\n",
    "    \n",
    "    X_dtc = df[clusters + ['step_number', 'time:weekday', 'time:hour', 'lifecycle:transition int']]\n",
    "    y_dtc = df[['next_event int', 'time:time_between']]\n",
    "\n",
    "    event_model.fit(X_dtc, y_dtc['next_event int'])\n",
    "    time_model.fit(X_dtc, y_dtc['time:time_between'])\n",
    "    \n",
    "    return event_model, time_model"
   ]
  },
  {
   "cell_type": "code",
   "execution_count": null,
   "metadata": {},
   "outputs": [],
   "source": [
    "def predict_clusters(cluster_model, prepared_rows, unique_columns):\n",
    "    df_grouped = prepared_rows.groupby('case_id')[unique_columns].sum()\n",
    "    prediction = cluster_model.predict(df_grouped[unique_columns])\n",
    "    unique_case_ids = prepared_rows['case_id'].unique()\n",
    "    return prepared_rows.case_id.map({unique_case_ids[i]: prediction[i] for i in range(len(prediction))})"
   ]
  },
  {
   "cell_type": "code",
   "execution_count": null,
   "metadata": {},
   "outputs": [],
   "source": [
    "def predict_value(tree, df_predict, clusters):\n",
    "    X_dtc = df_predict[clusters + ['step_number', 'time:weekday', 'time:hour', 'lifecycle:transition int']]\n",
    "    \n",
    "    prediction = tree.predict(X_dtc)\n",
    "    return prediction"
   ]
  },
  {
   "cell_type": "code",
   "execution_count": null,
   "metadata": {},
   "outputs": [],
   "source": [
    "def cluster_tree_predict(df_train, df_test):\n",
    "    cluster_tree_train, cluster_tree_test = prepare_dataframe_for_clustering(df_train), prepare_dataframe_for_clustering(df_test)\n",
    "    \n",
    "    le = pre.LabelEncoder()\n",
    "    le.fit(cluster_tree_train['lifecycle:transition'].unique())\n",
    "    cluster_tree_train['lifecycle:transition int'] = le.transform(cluster_tree_train['lifecycle:transition'])\n",
    "    cluster_tree_test['lifecycle:transition int'] = le.transform(cluster_tree_test['lifecycle:transition'])\n",
    "    \n",
    "    le2 = pre.LabelEncoder()\n",
    "    le2.fit(cluster_tree_train['next_event'].unique())\n",
    "    cluster_tree_train['next_event int'] = le2.transform(cluster_tree_train['next_event'])\n",
    "    cluster_tree_test['next_event int'] = le2.transform(cluster_tree_test['next_event'])\n",
    "    \n",
    "    #Clustering\n",
    "    cluster_columns = ['concept:name'] # ENTER CLUSTER COLUMN NAMES (max 2) HERE\n",
    "    assigned_columns = [cluster_columns[i] + ' cluster' for i in range(len(cluster_columns))]\n",
    "    \n",
    "    for i in range(len(cluster_columns)):\n",
    "        #Make sure no NaN values exist in these columns\n",
    "        cluster_tree_train[cluster_columns[i]] = cluster_tree_train[cluster_columns[i]].fillna(-1)\n",
    "        cluster_tree_test[cluster_columns[i]] = cluster_tree_test[cluster_columns[i]].fillna(-1)\n",
    "        \n",
    "        unique_values = cluster_tree_train[cluster_columns[i]].unique()\n",
    "        prepared_train_data = prepare_column_for_clustering(cluster_tree_train['case_id'], cluster_tree_train[cluster_columns[i]], unique_values)\n",
    "        cluster_tree_train[assigned_columns[i]], cluster_model = get_clusters(prepared_train_data)\n",
    "\n",
    "        prepared_test_data = prepare_column_for_clustering(cluster_tree_test['case_id'], cluster_tree_test[cluster_columns[i]], unique_values)\n",
    "        cluster_tree_test[assigned_columns[i]] = predict_clusters(cluster_model, prepared_test_data, unique_values)\n",
    "        \n",
    "    \n",
    "    for i in tqdm(range(NR_OF_CLUSTERS)):\n",
    "        next_amount = NR_OF_CLUSTERS\n",
    "        if len(cluster_columns) == 1:\n",
    "            next_amount = 1\n",
    "        for j in range(next_amount):\n",
    "            if len(cluster_columns) == 1:\n",
    "                clustered_train_df = cluster_tree_train[cluster_tree_train[assigned_columns[0]] == i]\n",
    "                clustered_test_df = cluster_tree_test[cluster_tree_test[assigned_columns[0]] == i]\n",
    "            else:\n",
    "                clustered_train_df = cluster_tree_train[(cluster_tree_train[assigned_columns[0]] == i) & (cluster_tree_test[assigned_columns[1]] == j)]\n",
    "                clustered_test_df = cluster_tree_test[(cluster_tree_test[assigned_columns[0]] == i) & (cluster_tree_test[assigned_columns[1]] == j)]\n",
    "        \n",
    "            if clustered_train_df.size > 0:\n",
    "                event_model, time_model = get_tree(clustered_train_df, assigned_columns)\n",
    "        \n",
    "                if clustered_test_df.size > 0:\n",
    "                    if len(cluster_columns) == 1:\n",
    "                        cluster_tree_test.loc[cluster_tree_test[assigned_columns[0]] == i, 'prediction'] = le2.inverse_transform(predict_value(event_model, clustered_test_df, assigned_columns))\n",
    "                        cluster_tree_test.loc[cluster_tree_test[assigned_columns[0]] == i, 'time:between_predicted'] = predict_value(time_model, clustered_test_df, assigned_columns)\n",
    "                    else:\n",
    "                        cluster_tree_test.loc[(cluster_tree_test[assigned_columns[0]] == i) & (cluster_tree_test[assigned_columns[1]] == j), 'prediction'] = le2.inverse_transform(predict_value(event_model, clustered_test_df, assigned_columns))\n",
    "                        cluster_tree_test.loc[(cluster_tree_test[assigned_columns[0]] == i) & (cluster_tree_test[assigned_columns[1]] == j), 'time:between_predicted'] = predict_value(time_model, clustered_test_df, assigned_columns)\n",
    "    \n",
    "    return cluster_tree_test\n",
    "    \n",
    "#use df_train for the train, df_validation for testing the parameters and df_test for testing the final result."
   ]
  },
  {
   "cell_type": "markdown",
   "metadata": {},
   "source": [
    "### Model testing using test data"
   ]
  },
  {
   "cell_type": "code",
   "execution_count": null,
   "metadata": {},
   "outputs": [],
   "source": [
    "NR_OF_CLUSTERS = 14"
   ]
  },
  {
   "cell_type": "code",
   "execution_count": null,
   "metadata": {},
   "outputs": [],
   "source": [
    "#I used tree as a standin for the df_test result, this can be changed later\n",
    "df_tree = cluster_tree_predict(df_train, df_test)\n",
    "df_tree"
   ]
  },
  {
   "cell_type": "code",
   "execution_count": null,
   "metadata": {},
   "outputs": [],
   "source": [
    "#prints accuracy of the tree dataset\n",
    "accuracy = round((len(df_tree[df_tree['next_event'] == df_tree['prediction']])/len(df_tree))*100, 1)\n",
    "print('accuracy: ' + str(accuracy) + '%')"
   ]
  },
  {
   "cell_type": "code",
   "execution_count": null,
   "metadata": {},
   "outputs": [],
   "source": [
    "#shows which predictions are given too much (>1) and which too little (<1)\n",
    "predicted_correct_events = Counter(list(df_tree[df_tree['next_event'] == df_tree['prediction']]['prediction']))\n",
    "predicted_events = Counter(list(df_tree['prediction']))\n",
    "true_events = Counter(list(df_tree['next_event']))\n",
    "\n",
    "for i in predicted_events:\n",
    "    if i != i:\n",
    "        break\n",
    "    print(i)\n",
    "    per = round(predicted_events[i]/true_events[i]*100, 1)\n",
    "    print(str(per) + '%')\n",
    "    if per > 100:\n",
    "        print('given ' + str(round(per-100, 1)) + '% too much')\n",
    "    \n",
    "    elif per < 100:\n",
    "        print('given ' + str(round(100-per, 1)) + '% too little')\n",
    "    \n",
    "    else:\n",
    "        print('given exactly the right amount')\n",
    "   \n",
    "    print('')"
   ]
  },
  {
   "cell_type": "code",
   "execution_count": null,
   "metadata": {},
   "outputs": [],
   "source": [
    "df_tree"
   ]
  },
  {
   "cell_type": "code",
   "execution_count": null,
   "metadata": {},
   "outputs": [],
   "source": [
    "#shows time related attributes of tree (assuming that time is stored in 'time:between_predicted')\n",
    "#create column with absolute difference between predicted time and actual time\n",
    "def time_difference_if_correct(var):\n",
    "    if var[0]:\n",
    "        return abs((var[1] - var[2]))\n",
    "    else:\n",
    "        return (0)\n",
    "    \n",
    "def apply_function(var):\n",
    "    if var[2] == var[3]:\n",
    "        return (var[0] == var[1])\n",
    "        \n",
    "    else:\n",
    "        return (var[0] == 'editor:close_case')\n",
    "        \n",
    "df_tree['shifted_case_id'] = df_tree['case_id'].shift(-1)\n",
    "df_tree.loc[len(df_tree) - 1, 'shifted_case_id'] = 0\n",
    "df_tree['correct'] = df_tree[['prediction', 'next_event', 'case_id', 'shifted_case_id']].apply(apply_function, axis=1)\n",
    "df_tree = df_tree.drop(['shifted_case_id'], axis=1)\n",
    "\n",
    "df_tree['time:relative_prediction_off'] = df_tree['time:time_between'] - df_tree['time:between_predicted']\n",
    "df_tree['time:absolute_prediction_off'] = df_tree['time:relative_prediction_off'].abs()\n",
    "\n",
    "df_tree['time:relative_prediction_correct'] = df_tree['time:time_between'] - df_tree['time:between_predicted']\n",
    "df_tree['time:absolute_prediction_correct'] = df_tree['time:relative_prediction_correct'].abs()    \n",
    "        \n",
    "for element in [(True, 'mean'), (True, 'median'), (False, 'mean'), (False, 'median')]:\n",
    "    timely_statistics(df_tree, relative=element[0], statistic=element[1])"
   ]
  },
  {
   "cell_type": "markdown",
   "metadata": {},
   "source": [
    "### Visualizations"
   ]
  },
  {
   "cell_type": "code",
   "execution_count": null,
   "metadata": {},
   "outputs": [],
   "source": [
    "from sklearn.decomposition import PCA\n",
    "from random import randint\n",
    "import seaborn as sns\n",
    "import plotly.graph_objects as go\n",
    "import plotly.express as px"
   ]
  },
  {
   "cell_type": "code",
   "execution_count": null,
   "metadata": {},
   "outputs": [],
   "source": [
    "#Group pre-cluster df by case (case_id)\n",
    "precluster_df = prepare_column_for_clustering(df['case_id'], df['concept:name'], df['concept:name'].unique())\n",
    "precluster_df_by_case = precluster_df.groupby('case_id').sum()\n",
    "precluster_df_by_case.head()"
   ]
  },
  {
   "cell_type": "code",
   "execution_count": null,
   "metadata": {},
   "outputs": [],
   "source": [
    "#Perform PCA (2 component) on the data\n",
    "pca2d = PCA(n_components = 2)\n",
    "pca2d.fit(precluster_df_by_case)"
   ]
  },
  {
   "cell_type": "code",
   "execution_count": null,
   "metadata": {},
   "outputs": [],
   "source": [
    "#Perform PCA (3 component) on the data\n",
    "pca3d = PCA(n_components = 3)\n",
    "pca3d.fit(precluster_df_by_case)"
   ]
  },
  {
   "cell_type": "code",
   "execution_count": null,
   "metadata": {},
   "outputs": [],
   "source": [
    "#Create 2d dataframe\n",
    "pca2d_df = pd.DataFrame(pca2d.transform(precluster_df_by_case))\n",
    "pca2d_df.index.names = ['case_id']\n",
    "pca2d_df.head()"
   ]
  },
  {
   "cell_type": "code",
   "execution_count": null,
   "metadata": {},
   "outputs": [],
   "source": [
    "#Create 3d dataframe\n",
    "pca3d_df = pd.DataFrame(pca3d.transform(precluster_df_by_case))\n",
    "pca3d_df.index.names = ['case_id']\n",
    "pca3d_df.head()"
   ]
  },
  {
   "cell_type": "code",
   "execution_count": null,
   "metadata": {},
   "outputs": [],
   "source": [
    "#Retrieve Clusters\n",
    "df['concept:name cluster'], cluster_model = get_clusters(precluster_df)"
   ]
  },
  {
   "cell_type": "code",
   "execution_count": null,
   "metadata": {},
   "outputs": [],
   "source": [
    "#Group regular df by case (case_id)\n",
    "df_by_case = df.groupby('case_id').mean()[['concept:name cluster']]\n",
    "df_by_case.head()"
   ]
  },
  {
   "cell_type": "code",
   "execution_count": null,
   "metadata": {},
   "outputs": [],
   "source": [
    "#Merge the dataframes for 2d\n",
    "vis2d_df = pd.merge(df_by_case, pca2d_df, on='case_id', how='left')\n",
    "vis2d_df.columns = ['cluster', 'x_comp', 'y_comp']\n",
    "vis2d_df.head()"
   ]
  },
  {
   "cell_type": "code",
   "execution_count": null,
   "metadata": {},
   "outputs": [],
   "source": [
    "#Merge the dataframes for 3d\n",
    "vis3d_df = pd.merge(df_by_case, pca3d_df, on='case_id', how='left')\n",
    "vis3d_df.columns = ['cluster', 'x_comp', 'y_comp', 'z_comp']\n",
    "vis3d_df.head()"
   ]
  },
  {
   "cell_type": "code",
   "execution_count": null,
   "metadata": {},
   "outputs": [],
   "source": [
    "#Plot with low alpha\n",
    "sns.lmplot('x_comp', 'y_comp', data=vis2d_df, hue='cluster', fit_reg=False, height=8, aspect=2, scatter_kws={'alpha': 0.25});"
   ]
  },
  {
   "cell_type": "code",
   "execution_count": null,
   "metadata": {},
   "outputs": [],
   "source": [
    "#Plot with high alpha\n",
    "sns.lmplot('x_comp', 'y_comp', data=vis2d_df, hue='cluster', fit_reg=False, height=8, aspect=2, scatter_kws={'alpha': 0.9});"
   ]
  },
  {
   "cell_type": "code",
   "execution_count": null,
   "metadata": {},
   "outputs": [],
   "source": [
    "def random_colorscale(n):\n",
    "    lst = []\n",
    "    scale = 0\n",
    "    initial = ['red','green','blue','orange','yellow','purple','black','pink','cyan','magenta']\n",
    "    for i in range(n):\n",
    "        if i < len(initial):\n",
    "            color = initial[i]\n",
    "        else:\n",
    "            color = \"#\" + \"%06x\" % randint(0, 0xFFFFFF)\n",
    "        lst.append((round(scale, 2), color))\n",
    "        scale += 1/(n-1)\n",
    "        \n",
    "    \n",
    "    return lst\n",
    "#[(0, \"red\"), (0.14, \"yellow\"), (0.29, \"purple\"), (0.43, \"green\"), (0.57, \"blue\"), (0.71, \"black\"), (0.86, \"orange\"), (1, \"pink\")]\n",
    "random_colorscale(4)\n",
    "random_colorscale(NR_OF_CLUSTERS)"
   ]
  },
  {
   "cell_type": "code",
   "execution_count": null,
   "metadata": {},
   "outputs": [],
   "source": [
    "lst = [(0, \"red\"), (0.14, \"yellow\"), (0.29, \"purple\"), (0.43, \"green\"), (0.57, \"blue\"), (0.71, \"black\"), (0.86, \"orange\"), (1, \"pink\")]\n",
    "fig = go.Figure(data=[go.Scatter3d(\n",
    "    x=vis3d_df['x_comp'],\n",
    "    y=vis3d_df['y_comp'],\n",
    "    z=vis3d_df['z_comp'],\n",
    "    mode='markers',\n",
    "    marker=dict(\n",
    "        size=4,\n",
    "        color=vis3d_df['cluster'],\n",
    "        colorscale=random_colorscale(14),\n",
    "        opacity=0.5\n",
    "    )\n",
    ")])\n",
    "fig.show()"
   ]
  },
  {
   "cell_type": "code",
   "execution_count": null,
   "metadata": {},
   "outputs": [],
   "source": []
  },
  {
   "cell_type": "code",
   "execution_count": null,
   "metadata": {},
   "outputs": [],
   "source": []
  }
 ],
 "metadata": {
  "kernelspec": {
   "display_name": "Python 3",
   "language": "python",
   "name": "python3"
  },
  "language_info": {
   "codemirror_mode": {
    "name": "ipython",
    "version": 3
   },
   "file_extension": ".py",
   "mimetype": "text/x-python",
   "name": "python",
   "nbconvert_exporter": "python",
   "pygments_lexer": "ipython3",
   "version": "3.7.4"
  }
 },
 "nbformat": 4,
 "nbformat_minor": 4
}
