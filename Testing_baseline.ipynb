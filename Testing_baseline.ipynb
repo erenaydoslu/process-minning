{
 "cells": [
  {
   "cell_type": "code",
   "execution_count": 45,
   "metadata": {},
   "outputs": [],
   "source": [
    "import pandas as pd\n",
    "from tqdm.notebook import tqdm, trange\n",
    "import datetime\n",
    "import numpy as np"
   ]
  },
  {
   "cell_type": "code",
   "execution_count": 35,
   "metadata": {},
   "outputs": [],
   "source": [
    "def fix_time(time):\n",
    "    return datetime.datetime.fromisoformat(time)\n",
    "\n",
    "df = pd.read_csv('BPI_2012.csv')\n",
    "df = df.rename(columns={'Unnamed: 0': 'case_id', 'Unnamed: 1': 'step_number'})\n",
    "df['time:timestamp'] = df['time:timestamp'].apply(fix_time)\n",
    "    \n",
    "df_attr = pd.read_csv('BPI_attr_2012.csv')\n",
    "df_attr = df_attr.rename(columns={'Unnamed: 0': 'case_id'})\n",
    "df_attr['REG_DATE'] = df_attr['REG_DATE'].apply(fix_time)"
   ]
  },
  {
   "cell_type": "code",
   "execution_count": 3,
   "metadata": {},
   "outputs": [],
   "source": [
    "df = df[df['lifecycle:transition'] == 'COMPLETE']\n",
    "df = df.reset_index(drop = True)"
   ]
  },
  {
   "cell_type": "code",
   "execution_count": 4,
   "metadata": {},
   "outputs": [],
   "source": [
    "df['time:time_between'] = df['time:timestamp'].diff()\n",
    "df.loc[df['step_number'] == 0, 'time:time_between'] = pd.Timedelta(0)\n",
    "\n",
    "df['time:weekday'] = [x.weekday() for x in df['time:timestamp']]\n",
    "df['time:hour'] = [x.hour for x in df['time:timestamp']]"
   ]
  },
  {
   "cell_type": "code",
   "execution_count": 5,
   "metadata": {},
   "outputs": [],
   "source": [
    "limit_date = datetime.datetime(2012, 2, 3, 1, 1, 1, 633000, tzinfo=datetime.timezone(datetime.timedelta(seconds=7200)))"
   ]
  },
  {
   "cell_type": "code",
   "execution_count": 6,
   "metadata": {},
   "outputs": [
    {
     "data": {
      "application/vnd.jupyter.widget-view+json": {
       "model_id": "305673f635314aa1b26c9e63776aa90d",
       "version_major": 2,
       "version_minor": 0
      },
      "text/plain": [
       "HBox(children=(HTML(value=''), FloatProgress(value=0.0, max=13087.0), HTML(value='')))"
      ]
     },
     "metadata": {},
     "output_type": "display_data"
    },
    {
     "name": "stdout",
     "output_type": "stream",
     "text": [
      "\n"
     ]
    },
    {
     "data": {
      "application/vnd.jupyter.widget-view+json": {
       "model_id": "906f40a24cba469da8bc84ca2c5301bf",
       "version_major": 2,
       "version_minor": 0
      },
      "text/plain": [
       "HBox(children=(HTML(value=''), FloatProgress(value=0.0, max=3524.0), HTML(value='')))"
      ]
     },
     "metadata": {},
     "output_type": "display_data"
    },
    {
     "name": "stdout",
     "output_type": "stream",
     "text": [
      "\n"
     ]
    }
   ],
   "source": [
    "#training data_set\n",
    "df_train = df\n",
    "listo = []\n",
    "for i in tqdm(range(0, 13087)):\n",
    "    if df[df['case_id'] == i].iloc[-1]['time:timestamp'] > limit_date:\n",
    "        listo.append(i)\n",
    "\n",
    "for i in tqdm(range(0, len(listo))):\n",
    "    df_train = df_train.drop(df_train[df_train['case_id']==listo[i]].index)\n",
    "\n",
    "df_train = df_train.reset_index(drop = True)"
   ]
  },
  {
   "cell_type": "code",
   "execution_count": 7,
   "metadata": {},
   "outputs": [],
   "source": [
    "df_train.to_csv('BPI_2012_train', index=False)"
   ]
  },
  {
   "cell_type": "code",
   "execution_count": 8,
   "metadata": {},
   "outputs": [
    {
     "data": {
      "application/vnd.jupyter.widget-view+json": {
       "model_id": "840742c1b65440dd9995c589e1635054",
       "version_major": 2,
       "version_minor": 0
      },
      "text/plain": [
       "HBox(children=(HTML(value=''), FloatProgress(value=0.0, max=13087.0), HTML(value='')))"
      ]
     },
     "metadata": {},
     "output_type": "display_data"
    },
    {
     "name": "stdout",
     "output_type": "stream",
     "text": [
      "\n"
     ]
    },
    {
     "data": {
      "application/vnd.jupyter.widget-view+json": {
       "model_id": "c34c7a26764a462db7d78308ddc996c0",
       "version_major": 2,
       "version_minor": 0
      },
      "text/plain": [
       "HBox(children=(HTML(value=''), FloatProgress(value=0.0, max=2678.0), HTML(value='')))"
      ]
     },
     "metadata": {},
     "output_type": "display_data"
    },
    {
     "name": "stdout",
     "output_type": "stream",
     "text": [
      "\n"
     ]
    }
   ],
   "source": [
    "#testing data_set\n",
    "df_test = pd.DataFrame(columns = (df.columns))\n",
    "listo = []\n",
    "for i in tqdm(range(0, 13087)):\n",
    "    if df[df['case_id'] == i].iloc[0]['time:timestamp'] > limit_date:\n",
    "        listo.append(i)\n",
    "\n",
    "for i in tqdm(range(0, len(listo))):\n",
    "    df_test = df_test.append(df[df['case_id'] == listo[i]])\n",
    "\n",
    "df_test = df_test.reset_index(drop = True)"
   ]
  },
  {
   "cell_type": "code",
   "execution_count": 9,
   "metadata": {},
   "outputs": [],
   "source": [
    "df_test.to_csv('BPI_2012_test', index=False)"
   ]
  },
  {
   "cell_type": "code",
   "execution_count": 16,
   "metadata": {},
   "outputs": [],
   "source": [
    "def fix_time(time):\n",
    "    return datetime.datetime.fromisoformat(time)\n",
    "\n",
    "df_train = pd.read_csv('BPI_2012_train')\n",
    "df_train['time:timestamp'] = df_train['time:timestamp'].apply(fix_time)\n",
    "df_train['time:time_between'] = df_train['time:timestamp'].diff()\n",
    "df_train.loc[df['step_number'] == 0, 'time:time_between'] = pd.Timedelta(0)\n",
    "\n",
    "df_test = pd.read_csv('BPI_2012_test')\n",
    "df_test['time:timestamp'] = df_test['time:timestamp'].apply(fix_time)\n",
    "df_test['time:time_between'] = df_test['time:timestamp'].diff()\n",
    "df_test.loc[df['step_number'] == 0, 'time:time_between'] = pd.Timedelta(0)"
   ]
  },
  {
   "cell_type": "code",
   "execution_count": 20,
   "metadata": {},
   "outputs": [],
   "source": [
    "def creating_dict_for_next_step_stats (df : pd.DataFrame, concept_name : str) -> dict:\n",
    "    '''For an input action checks for all the possible next actions and counts their occurence'''\n",
    "    \n",
    "    dic_occurrence = {}\n",
    "    dic_total_time = {}\n",
    "    ids = list(df['case_id']) + ['editor: last id'] #Otherwise we check i+1-th position that does not exist\n",
    "    times = list(df['time:time_between']) + [pd.Timedelta(0)] #Otherwise we check i+1-th position that does not exist\n",
    "    names = df['concept:name']\n",
    "    df_concept = df[names == concept_name]\n",
    "    \n",
    "    for i, row in df_concept.iterrows():\n",
    "        if (ids[i] == ids[i+1]): #an instance of the same case\n",
    "            if (names[i+1] not in dic_occurrence):\n",
    "                dic_occurrence[names[i+1]] = 1\n",
    "                dic_total_time[names[i+1]] = times[i+1]\n",
    "            else:\n",
    "                dic_occurrence[names[i+1]] += 1\n",
    "                dic_total_time[names[i+1]] += times[i+1]\n",
    "        else: #the last instance of the case\n",
    "            if ('editor: close_case' not in dic_occurrence):\n",
    "                dic_occurrence['editor: close_case'] = 1\n",
    "                dic_total_time['editor: close_case'] = times[i+1]\n",
    "            else:\n",
    "                dic_occurrence['editor: close_case'] += 1\n",
    "                dic_total_time['editor: close_case'] += times[i+1]\n",
    "    \n",
    "    #Compute average time\n",
    "    dic_avg_time = {}\n",
    "    for key in dic_total_time:\n",
    "        dic_avg_time[key] = dic_total_time[key] / dic_occurrence[key]\n",
    "        \n",
    "    return(dic_occurrence, dic_avg_time)"
   ]
  },
  {
   "cell_type": "code",
   "execution_count": 21,
   "metadata": {},
   "outputs": [],
   "source": [
    "def choosing_next_action(dic : dict):\n",
    "    '''Finds the max value of the input dict and returns the key of the max value'''\n",
    "    \n",
    "    max_key = max(dic, key=dic.get)\n",
    "    return(max_key)"
   ]
  },
  {
   "cell_type": "code",
   "execution_count": 22,
   "metadata": {},
   "outputs": [],
   "source": [
    "def cycles_shortcut(actions : list, concept_name : str, max_length : int) -> list or bool:\n",
    "    '''For saving the operating time, we will try to terminate the baseline early if we get into a loop\n",
    "    max_length is the longest_trace parameter'''\n",
    "    \n",
    "    if(concept_name in actions): #the action has already been done\n",
    "        if(actions[-1] == concept_name): #and it's the most recent action (self-loop)\n",
    "            while(len(actions) < max_length): #filling the rest of the list with the current action if we're in a self-loop\n",
    "                actions.append(concept_name)\n",
    "        \n",
    "        else: #it is not the most recent action\n",
    "            placement = actions.index(concept_name) #locating the index of the \"duplicate\"\n",
    "            aid_array = actions[placement:] #copying the values\n",
    "            print(\"aid_array = \", aid_array)\n",
    "            \n",
    "            actions = actions + [0] * (max_length-len(actions)) #making [x, y, z, x] into [x, y, z, x, 0, 0, 0, ...]\n",
    "            print(\"actions = \", actions)\n",
    "            \n",
    "            for i in range(placement+1, max_length): #iterating only over all the indices of 0's in actions\n",
    "                actions[i] = aid_array[(i-placement)%len(aid_array)] #copying the list's values over and over again\n",
    "        \n",
    "        return(actions) #This return has to be then the return of the iterated_expected_actions\n",
    "    \n",
    "    else:\n",
    "        return(False)"
   ]
  },
  {
   "cell_type": "code",
   "execution_count": 23,
   "metadata": {},
   "outputs": [],
   "source": [
    "def iterating_expected_actions(df : pd.DataFrame, concept_name : str, n : int) -> list:\n",
    "    '''concept_name is the starting point (first action)\n",
    "    n is the length of the longest trace ever observed\n",
    "    It is stored in lonest_trace but for runtime reasons, use n so far'''\n",
    "    \n",
    "    longest_trace = max(df['step_number']) #finding the longest trace in the database (nr of steps)\n",
    "    #note that we determine this AFTER deleting some rows with uncomplete steps. We should be running this on full df\n",
    "    \n",
    "    i = 0\n",
    "    actions = [concept_name] #Here is the list that will store all the subsequent actions the algorithm decices to perform\n",
    "    while (i < n): #terminate if we are exceeding the max number of steps\n",
    "        wow = creating_dict_for_next_step_stats(df, concept_name)[0] #list all possible options\n",
    "        concept_name = choosing_next_action(wow) #Choose the most commonly used option\n",
    "        \n",
    "        if(cycles_shortcut(actions, concept_name, n) != False): #Checks if we are stuck in a loop\n",
    "            print(\"we are stuck in a loop\")\n",
    "            return(cycles_shortcut(actions, concept_name, n))\n",
    "        \n",
    "        if(concept_name == 'editor: close_case'): #If it is the \"terminate\" option - terminate\n",
    "            break\n",
    "        actions.append(concept_name) #Add the action to the list\n",
    "        i += 1\n",
    "    \n",
    "    actions.append('editor: close_case')\n",
    "    print('i = ', i, \"n = \", n)\n",
    "    \n",
    "    return(actions)"
   ]
  },
  {
   "cell_type": "code",
   "execution_count": 27,
   "metadata": {},
   "outputs": [],
   "source": [
    "def add_expected_events(df : pd.DataFrame) -> list:\n",
    "    all_events = df['concept:name'].unique()\n",
    "    next_event_name_dic = {'editor: close_case': 'editor: close_case'}\n",
    "    next_event_duration_dic = {'editor: close_case': pd.Timedelta(0)}\n",
    "    for i in tqdm(range(0, len(all_events))):\n",
    "        event = all_events[i]\n",
    "        next_step_stats = creating_dict_for_next_step_stats(df, event)\n",
    "        wow = next_step_stats[0] #list all possible options\n",
    "        concept_name = choosing_next_action(wow) #Choose the most commonly used option\n",
    "        next_event_name_dic[event] = concept_name\n",
    "        next_event_duration_dic[event] = next_step_stats[1][concept_name]\n",
    "    return next_event_name_dic, next_event_duration_dic"
   ]
  },
  {
   "cell_type": "code",
   "execution_count": 28,
   "metadata": {},
   "outputs": [
    {
     "data": {
      "application/vnd.jupyter.widget-view+json": {
       "model_id": "217bfb09c76642c58c7dd9b07fcb4596",
       "version_major": 2,
       "version_minor": 0
      },
      "text/plain": [
       "HBox(children=(HTML(value=''), FloatProgress(value=0.0, max=23.0), HTML(value='')))"
      ]
     },
     "metadata": {},
     "output_type": "display_data"
    },
    {
     "name": "stdout",
     "output_type": "stream",
     "text": [
      "\n"
     ]
    },
    {
     "data": {
      "text/plain": [
       "({'editor: close_case': 'editor: close_case',\n",
       "  'A_SUBMITTED': 'A_PARTLYSUBMITTED',\n",
       "  'A_PARTLYSUBMITTED': 'A_PREACCEPTED',\n",
       "  'A_PREACCEPTED': 'W_Completeren aanvraag',\n",
       "  'A_ACCEPTED': 'O_SELECTED',\n",
       "  'O_SELECTED': 'O_CREATED',\n",
       "  'A_FINALIZED': 'O_CREATED',\n",
       "  'O_CREATED': 'O_SENT',\n",
       "  'O_SENT': 'W_Completeren aanvraag',\n",
       "  'W_Completeren aanvraag': 'W_Completeren aanvraag',\n",
       "  'W_Nabellen offertes': 'W_Nabellen offertes',\n",
       "  'O_SENT_BACK': 'W_Nabellen offertes',\n",
       "  'A_REGISTERED': 'A_ACTIVATED',\n",
       "  'A_APPROVED': 'A_ACTIVATED',\n",
       "  'O_ACCEPTED': 'A_REGISTERED',\n",
       "  'A_ACTIVATED': 'W_Valideren aanvraag',\n",
       "  'W_Valideren aanvraag': 'editor: close_case',\n",
       "  'O_CANCELLED': 'O_SELECTED',\n",
       "  'A_DECLINED': 'editor: close_case',\n",
       "  'A_CANCELLED': 'O_CANCELLED',\n",
       "  'W_Afhandelen leads': 'editor: close_case',\n",
       "  'O_DECLINED': 'A_DECLINED',\n",
       "  'W_Nabellen incomplete dossiers': 'W_Nabellen incomplete dossiers',\n",
       "  'W_Beoordelen fraude': 'W_Beoordelen fraude'},\n",
       " {'editor: close_case': Timedelta('0 days 00:00:00'),\n",
       "  'A_SUBMITTED': Timedelta('0 days 00:00:00.545381051'),\n",
       "  'A_PARTLYSUBMITTED': Timedelta('0 days 01:33:06.184234123'),\n",
       "  'A_PREACCEPTED': Timedelta('0 days 07:29:35.340237003'),\n",
       "  'A_ACCEPTED': Timedelta('0 days 00:03:29.498655010'),\n",
       "  'O_SELECTED': Timedelta('0 days 00:00:03.261608366'),\n",
       "  'A_FINALIZED': Timedelta('0 days 00:00:03.319423096'),\n",
       "  'O_CREATED': Timedelta('0 days 00:00:00.057118497'),\n",
       "  'O_SENT': Timedelta('0 days 00:00:01.698696683'),\n",
       "  'W_Completeren aanvraag': Timedelta('1 days 07:50:19.867032590'),\n",
       "  'W_Nabellen offertes': Timedelta('2 days 20:01:03.923932706'),\n",
       "  'O_SENT_BACK': Timedelta('0 days 00:00:01.850114979'),\n",
       "  'A_REGISTERED': Timedelta('0 days 00:00:00.000102941'),\n",
       "  'A_APPROVED': Timedelta('0 days 00:00:00.001926701'),\n",
       "  'O_ACCEPTED': Timedelta('0 days 00:00:00.000482632'),\n",
       "  'A_ACTIVATED': Timedelta('0 days 00:00:07.653316816'),\n",
       "  'W_Valideren aanvraag': Timedelta('-7 days +01:15:11.847228125'),\n",
       "  'O_CANCELLED': Timedelta('0 days 00:00:00.000160828'),\n",
       "  'A_DECLINED': Timedelta('0 days 00:10:43.582395522'),\n",
       "  'A_CANCELLED': Timedelta('0 days 00:00:00.000106969'),\n",
       "  'W_Afhandelen leads': Timedelta('-1 days +20:41:22.008994006'),\n",
       "  'O_DECLINED': Timedelta('0 days 00:00:00'),\n",
       "  'W_Nabellen incomplete dossiers': Timedelta('0 days 14:47:56.213385159'),\n",
       "  'W_Beoordelen fraude': Timedelta('0 days 14:04:21.609589285')})"
      ]
     },
     "execution_count": 28,
     "metadata": {},
     "output_type": "execute_result"
    }
   ],
   "source": [
    "all_expected_events = add_expected_events(df_train)\n",
    "all_expected_events"
   ]
  },
  {
   "cell_type": "code",
   "execution_count": 39,
   "metadata": {},
   "outputs": [],
   "source": [
    "def prediction(prev):\n",
    "    return all_expected_events[0][prev]\n",
    "\n",
    "df_test['predicted'] = df_test['concept:name'].apply(prediction)"
   ]
  },
  {
   "cell_type": "code",
   "execution_count": 53,
   "metadata": {},
   "outputs": [
    {
     "data": {
      "application/vnd.jupyter.widget-view+json": {
       "model_id": "1b23f99f43904fca9ed3210521c5f03e",
       "version_major": 2,
       "version_minor": 0
      },
      "text/plain": [
       "HBox(children=(HTML(value=''), FloatProgress(value=0.0, max=31156.0), HTML(value='')))"
      ]
     },
     "metadata": {},
     "output_type": "display_data"
    },
    {
     "name": "stdout",
     "output_type": "stream",
     "text": [
      "\n"
     ]
    }
   ],
   "source": [
    "df_test['correct'] = np.nan\n",
    "for i in tqdm(range(0, len(df_test)-1)):\n",
    "    if df_test.loc[i, 'case_id'] == df_test.loc[i+1, 'case_id']:\n",
    "        df_test.loc[i, 'correct'] = (df_test.loc[i, 'predicted'] == df_test.loc[i+1, 'concept:name'])\n",
    "    \n",
    "    else:\n",
    "         df_test.loc[i, 'correct'] = (df_test.loc[i, 'predicted'] == 'editor:close_case')    "
   ]
  },
  {
   "cell_type": "code",
   "execution_count": 57,
   "metadata": {},
   "outputs": [
    {
     "data": {
      "text/plain": [
       "0.5274898096735886"
      ]
     },
     "execution_count": 57,
     "metadata": {},
     "output_type": "execute_result"
    }
   ],
   "source": [
    "list(df_test['correct']).count(True)/len(list(df_test['correct']))"
   ]
  },
  {
   "cell_type": "code",
   "execution_count": 58,
   "metadata": {},
   "outputs": [],
   "source": [
    "def prediction(prev):\n",
    "    return all_expected_events[1][prev]\n",
    "\n",
    "df_test['time:between_predicted'] = df_test['concept:name'].apply(prediction)"
   ]
  },
  {
   "cell_type": "code",
   "execution_count": 85,
   "metadata": {},
   "outputs": [],
   "source": [
    "def time_difference(var):\n",
    "    return abs((var[0] - var[1]).total_seconds())\n",
    "\n",
    "df_test['time:predicton_off'] = df_test[['time:time_between', 'time:between_predicted']].apply(time_difference, axis=1)"
   ]
  },
  {
   "cell_type": "code",
   "execution_count": 97,
   "metadata": {},
   "outputs": [
    {
     "name": "stdout",
     "output_type": "stream",
     "text": [
      "145471.99743784434, 2424.533290630739, 40.40888817717898, 1.6837036740491242\n"
     ]
    }
   ],
   "source": [
    "seconds = df_test['time:predicton_off'].mean()\n",
    "minutes = seconds/60\n",
    "hours = minutes/60\n",
    "days = hours/24\n",
    "print(str(seconds) + ', ' + str(minutes) + ', ' + str(hours) + ', ' + str(days))"
   ]
  },
  {
   "cell_type": "code",
   "execution_count": 98,
   "metadata": {},
   "outputs": [
    {
     "name": "stdout",
     "output_type": "stream",
     "text": [
      "26901.505238, 448.35842063333337, 7.472640343888889, 0.3113600143287037\n"
     ]
    }
   ],
   "source": [
    "seconds = df_test['time:predicton_off'].median()\n",
    "minutes = seconds/60\n",
    "hours = minutes/60\n",
    "days = hours/24\n",
    "print(str(seconds) + ', ' + str(minutes) + ', ' + str(hours) + ', ' + str(days))"
   ]
  },
  {
   "cell_type": "code",
   "execution_count": 95,
   "metadata": {},
   "outputs": [
    {
     "data": {
      "text/plain": [
       "101.02222222222223"
      ]
     },
     "execution_count": 95,
     "metadata": {},
     "output_type": "execute_result"
    }
   ],
   "source": [
    "145472/60/24"
   ]
  }
 ],
 "metadata": {
  "kernelspec": {
   "display_name": "Python 3",
   "language": "python",
   "name": "python3"
  },
  "language_info": {
   "codemirror_mode": {
    "name": "ipython",
    "version": 3
   },
   "file_extension": ".py",
   "mimetype": "text/x-python",
   "name": "python",
   "nbconvert_exporter": "python",
   "pygments_lexer": "ipython3",
   "version": "3.7.3"
  }
 },
 "nbformat": 4,
 "nbformat_minor": 4
}
