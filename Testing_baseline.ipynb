{
 "cells": [
  {
   "cell_type": "code",
   "execution_count": 1,
   "metadata": {},
   "outputs": [],
   "source": [
    "import pandas as pd\n",
    "from tqdm.notebook import tqdm, trange\n",
    "import datetime\n",
    "import numpy as np\n",
    "import random"
   ]
  },
  {
   "cell_type": "code",
   "execution_count": null,
   "metadata": {},
   "outputs": [],
   "source": [
    "def fix_time(time):\n",
    "    return datetime.datetime.fromisoformat(time)\n",
    "\n",
    "df = pd.read_csv('BPI_2012.csv')\n",
    "df = df.rename(columns={'Unnamed: 0': 'case_id', 'Unnamed: 1': 'step_number'})\n",
    "df['time:timestamp'] = df['time:timestamp'].apply(fix_time)\n",
    "    \n",
    "df_attr = pd.read_csv('BPI_attr_2012.csv')\n",
    "df_attr = df_attr.rename(columns={'Unnamed: 0': 'case_id'})\n",
    "df_attr['REG_DATE'] = df_attr['REG_DATE'].apply(fix_time)"
   ]
  },
  {
   "cell_type": "code",
   "execution_count": null,
   "metadata": {},
   "outputs": [],
   "source": [
    "df = df[df['lifecycle:transition'] == 'COMPLETE']\n",
    "df = df.reset_index(drop = True)"
   ]
  },
  {
   "cell_type": "code",
   "execution_count": null,
   "metadata": {},
   "outputs": [],
   "source": [
    "df['time:time_between'] = df['time:timestamp'].diff()\n",
    "df.loc[df['step_number'] == 0, 'time:time_between'] = pd.Timedelta(0)\n",
    "\n",
    "df['time:weekday'] = [x.weekday() for x in df['time:timestamp']]\n",
    "df['time:hour'] = [x.hour for x in df['time:timestamp']]"
   ]
  },
  {
   "cell_type": "code",
   "execution_count": null,
   "metadata": {},
   "outputs": [],
   "source": [
    "#amount of total data that is training data:\n",
    "train_data = 0.8\n",
    "#amount of train data that is validation data:\n",
    "validation_data = 0.1"
   ]
  },
  {
   "cell_type": "code",
   "execution_count": null,
   "metadata": {},
   "outputs": [],
   "source": [
    "limit_date = df[df['case_id'] == round(df.iloc[-1, 0]*train_data)].iloc[0]['time:timestamp']\n",
    "#limit_date = datetime.datetime(2012, 2, 3, 1, 1, 1, 633000, tzinfo=datetime.timezone(datetime.timedelta(seconds=7200)))"
   ]
  },
  {
   "cell_type": "code",
   "execution_count": null,
   "metadata": {},
   "outputs": [],
   "source": [
    "#training data_set\n",
    "df_train = df\n",
    "listo = []\n",
    "for i in tqdm(range(0, 13087)):\n",
    "    if df[df['case_id'] == i].iloc[-1]['time:timestamp'] > limit_date:\n",
    "        listo.append(i)\n",
    "\n",
    "for i in tqdm(range(0, len(listo))):\n",
    "    df_train = df_train.drop(df_train[df_train['case_id']==listo[i]].index)\n",
    "\n",
    "df_train = df_train.reset_index(drop = True)"
   ]
  },
  {
   "cell_type": "code",
   "execution_count": null,
   "metadata": {},
   "outputs": [],
   "source": [
    "#splitting training dataset into validation and training dataset\n",
    "mask = np.random.rand(len(df_train)) < validation_data\n",
    "df_validation = df_train[mask]\n",
    "df_train = df_train[~mask]"
   ]
  },
  {
   "cell_type": "code",
   "execution_count": null,
   "metadata": {},
   "outputs": [],
   "source": [
    "#testing data_set\n",
    "df_test = pd.DataFrame(columns = (df.columns))\n",
    "listo = []\n",
    "for i in tqdm(range(0, 13087)):\n",
    "    if df[df['case_id'] == i].iloc[0]['time:timestamp'] > limit_date:\n",
    "        listo.append(i)\n",
    "\n",
    "for i in tqdm(range(0, len(listo))):\n",
    "    df_test = df_test.append(df[df['case_id'] == listo[i]])\n",
    "\n",
    "df_test = df_test.reset_index(drop = True)"
   ]
  },
  {
   "cell_type": "code",
   "execution_count": null,
   "metadata": {},
   "outputs": [],
   "source": [
    "print(len(df_train))\n",
    "print(len(df_validation))\n",
    "print(len(df_test))"
   ]
  },
  {
   "cell_type": "code",
   "execution_count": null,
   "metadata": {},
   "outputs": [],
   "source": [
    "df_train.to_csv('BPI_2012_train', index=False)"
   ]
  },
  {
   "cell_type": "code",
   "execution_count": null,
   "metadata": {},
   "outputs": [],
   "source": [
    "df_validation.to_csv('BPI_2012_validation', index=False)"
   ]
  },
  {
   "cell_type": "code",
   "execution_count": null,
   "metadata": {},
   "outputs": [],
   "source": [
    "df_test.to_csv('BPI_2012_test', index=False)"
   ]
  },
  {
   "cell_type": "code",
   "execution_count": 2,
   "metadata": {},
   "outputs": [],
   "source": [
    "def fix_time(time):\n",
    "    return datetime.datetime.fromisoformat(time)\n",
    "\n",
    "df_train = pd.read_csv('BPI_2012_train')\n",
    "df_validation = pd.read_csv('BPI_2012_validation')\n",
    "df_test = pd.read_csv('BPI_2012_test')\n",
    "\n",
    "df_train['time:timestamp'] = df_train['time:timestamp'].apply(fix_time)\n",
    "df_validation['time:timestamp'] = df_validation['time:timestamp'].apply(fix_time)\n",
    "df_test['time:timestamp'] = df_test['time:timestamp'].apply(fix_time)\n",
    "\n",
    "df_train['time:time_between'] = df_train['time:timestamp'].diff()\n",
    "df_validation['time:time_between'] = df_validation['time:timestamp'].diff()\n",
    "df_test['time:time_between'] = df_test['time:timestamp'].diff()\n",
    "\n",
    "df_train.loc[df_train['step_number'] == 0, 'time:time_between'] = pd.Timedelta(0)\n",
    "df_validation.loc[df_validation['step_number'] == 0, 'time:time_between'] = pd.Timedelta(0)\n",
    "df_test.loc[df_test['step_number'] == 0, 'time:time_between'] = pd.Timedelta(0)"
   ]
  },
  {
   "cell_type": "code",
   "execution_count": 3,
   "metadata": {},
   "outputs": [],
   "source": [
    "def creating_dict_for_next_step_stats (df : pd.DataFrame, concept_name : str) -> dict:\n",
    "    '''For an input action checks for all the possible next actions and counts their occurence'''\n",
    "    \n",
    "    dic_occurrence = {}\n",
    "    dic_total_time = {}\n",
    "    ids = list(df['case_id']) + ['editor: last id'] #Otherwise we check i+1-th position that does not exist\n",
    "    times = list(df['time:time_between']) + [pd.Timedelta(0)] #Otherwise we check i+1-th position that does not exist\n",
    "    names = df['concept:name']\n",
    "    df_concept = df[names == concept_name]\n",
    "    \n",
    "    for i, row in df_concept.iterrows():\n",
    "        if (ids[i] == ids[i+1]): #an instance of the same case\n",
    "            if (names[i+1] not in dic_occurrence):\n",
    "                dic_occurrence[names[i+1]] = 1\n",
    "                dic_total_time[names[i+1]] = times[i+1]\n",
    "            else:\n",
    "                dic_occurrence[names[i+1]] += 1\n",
    "                dic_total_time[names[i+1]] += times[i+1]\n",
    "        else: #the last instance of the case\n",
    "            if ('editor: close_case' not in dic_occurrence):\n",
    "                dic_occurrence['editor: close_case'] = 1\n",
    "                dic_total_time['editor: close_case'] = times[i+1]\n",
    "            else:\n",
    "                dic_occurrence['editor: close_case'] += 1\n",
    "                dic_total_time['editor: close_case'] += times[i+1]\n",
    "    \n",
    "    #Compute average time\n",
    "    dic_avg_time = {}\n",
    "    for key in dic_total_time:\n",
    "        dic_avg_time[key] = dic_total_time[key] / dic_occurrence[key]\n",
    "        \n",
    "    return(dic_occurrence, dic_avg_time)"
   ]
  },
  {
   "cell_type": "code",
   "execution_count": 4,
   "metadata": {},
   "outputs": [],
   "source": [
    "def choosing_next_action(dic : dict):\n",
    "    '''Finds the max value of the input dict and returns the key of the max value'''\n",
    "    \n",
    "    max_key = max(dic, key=dic.get)\n",
    "    return(max_key)"
   ]
  },
  {
   "cell_type": "code",
   "execution_count": 5,
   "metadata": {},
   "outputs": [],
   "source": [
    "def cycles_shortcut(actions : list, concept_name : str, max_length : int) -> list or bool:\n",
    "    '''For saving the operating time, we will try to terminate the baseline early if we get into a loop\n",
    "    max_length is the longest_trace parameter'''\n",
    "    \n",
    "    if(concept_name in actions): #the action has already been done\n",
    "        if(actions[-1] == concept_name): #and it's the most recent action (self-loop)\n",
    "            while(len(actions) < max_length): #filling the rest of the list with the current action if we're in a self-loop\n",
    "                actions.append(concept_name)\n",
    "        \n",
    "        else: #it is not the most recent action\n",
    "            placement = actions.index(concept_name) #locating the index of the \"duplicate\"\n",
    "            aid_array = actions[placement:] #copying the values\n",
    "            print(\"aid_array = \", aid_array)\n",
    "            \n",
    "            actions = actions + [0] * (max_length-len(actions)) #making [x, y, z, x] into [x, y, z, x, 0, 0, 0, ...]\n",
    "            print(\"actions = \", actions)\n",
    "            \n",
    "            for i in range(placement+1, max_length): #iterating only over all the indices of 0's in actions\n",
    "                actions[i] = aid_array[(i-placement)%len(aid_array)] #copying the list's values over and over again\n",
    "        \n",
    "        return(actions) #This return has to be then the return of the iterated_expected_actions\n",
    "    \n",
    "    else:\n",
    "        return(False)"
   ]
  },
  {
   "cell_type": "code",
   "execution_count": 6,
   "metadata": {},
   "outputs": [],
   "source": [
    "def iterating_expected_actions(df : pd.DataFrame, concept_name : str, n : int) -> list:\n",
    "    '''concept_name is the starting point (first action)\n",
    "    n is the length of the longest trace ever observed\n",
    "    It is stored in lonest_trace but for runtime reasons, use n so far'''\n",
    "    \n",
    "    longest_trace = max(df['step_number']) #finding the longest trace in the database (nr of steps)\n",
    "    #note that we determine this AFTER deleting some rows with uncomplete steps. We should be running this on full df\n",
    "    \n",
    "    i = 0\n",
    "    actions = [concept_name] #Here is the list that will store all the subsequent actions the algorithm decices to perform\n",
    "    while (i < n): #terminate if we are exceeding the max number of steps\n",
    "        wow = creating_dict_for_next_step_stats(df, concept_name)[0] #list all possible options\n",
    "        concept_name = choosing_next_action(wow) #Choose the most commonly used option\n",
    "        \n",
    "        if(cycles_shortcut(actions, concept_name, n) != False): #Checks if we are stuck in a loop\n",
    "            print(\"we are stuck in a loop\")\n",
    "            return(cycles_shortcut(actions, concept_name, n))\n",
    "        \n",
    "        if(concept_name == 'editor: close_case'): #If it is the \"terminate\" option - terminate\n",
    "            break\n",
    "        actions.append(concept_name) #Add the action to the list\n",
    "        i += 1\n",
    "    \n",
    "    actions.append('editor: close_case')\n",
    "    print('i = ', i, \"n = \", n)\n",
    "    \n",
    "    return(actions)"
   ]
  },
  {
   "cell_type": "code",
   "execution_count": 7,
   "metadata": {},
   "outputs": [],
   "source": [
    "def add_expected_events(df : pd.DataFrame) -> list:\n",
    "    all_events = df['concept:name'].unique()\n",
    "    next_event_name_dic = {'editor: close_case': 'editor: close_case'}\n",
    "    next_event_duration_dic = {'editor: close_case': pd.Timedelta(0)}\n",
    "    for i in tqdm(range(0, len(all_events))):\n",
    "        event = all_events[i]\n",
    "        next_step_stats = creating_dict_for_next_step_stats(df, event)\n",
    "        wow = next_step_stats[0] #list all possible options\n",
    "        concept_name = choosing_next_action(wow) #Choose the most commonly used option\n",
    "        next_event_name_dic[event] = concept_name\n",
    "        next_event_duration_dic[event] = next_step_stats[1][concept_name]\n",
    "    return next_event_name_dic, next_event_duration_dic"
   ]
  },
  {
   "cell_type": "code",
   "execution_count": 8,
   "metadata": {},
   "outputs": [
    {
     "data": {
      "application/vnd.jupyter.widget-view+json": {
       "model_id": "32d3bd28dbe348cabacafebca67a290d",
       "version_major": 2,
       "version_minor": 0
      },
      "text/plain": [
       "HBox(children=(HTML(value=''), FloatProgress(value=0.0, max=23.0), HTML(value='')))"
      ]
     },
     "metadata": {},
     "output_type": "display_data"
    },
    {
     "name": "stdout",
     "output_type": "stream",
     "text": [
      "\n"
     ]
    },
    {
     "data": {
      "text/plain": [
       "({'editor: close_case': 'editor: close_case',\n",
       "  'A_SUBMITTED': 'A_PARTLYSUBMITTED',\n",
       "  'A_PARTLYSUBMITTED': 'A_PREACCEPTED',\n",
       "  'A_PREACCEPTED': 'W_Completeren aanvraag',\n",
       "  'A_ACCEPTED': 'O_SELECTED',\n",
       "  'O_SELECTED': 'O_CREATED',\n",
       "  'A_FINALIZED': 'O_CREATED',\n",
       "  'O_CREATED': 'O_SENT',\n",
       "  'W_Completeren aanvraag': 'W_Completeren aanvraag',\n",
       "  'W_Nabellen offertes': 'W_Nabellen offertes',\n",
       "  'O_SENT_BACK': 'W_Nabellen offertes',\n",
       "  'A_REGISTERED': 'A_ACTIVATED',\n",
       "  'A_APPROVED': 'A_ACTIVATED',\n",
       "  'O_ACCEPTED': 'A_REGISTERED',\n",
       "  'A_ACTIVATED': 'W_Valideren aanvraag',\n",
       "  'W_Valideren aanvraag': 'editor: close_case',\n",
       "  'O_SENT': 'W_Completeren aanvraag',\n",
       "  'O_CANCELLED': 'O_CREATED',\n",
       "  'A_DECLINED': 'editor: close_case',\n",
       "  'A_CANCELLED': 'O_CANCELLED',\n",
       "  'W_Afhandelen leads': 'editor: close_case',\n",
       "  'O_DECLINED': 'A_DECLINED',\n",
       "  'W_Nabellen incomplete dossiers': 'W_Nabellen incomplete dossiers',\n",
       "  'W_Beoordelen fraude': 'W_Beoordelen fraude'},\n",
       " {'editor: close_case': Timedelta('0 days 00:00:00'),\n",
       "  'A_SUBMITTED': Timedelta('0 days 00:00:00.568151600'),\n",
       "  'A_PARTLYSUBMITTED': Timedelta('0 days 01:38:18.215462914'),\n",
       "  'A_PREACCEPTED': Timedelta('0 days 08:13:48.436470162'),\n",
       "  'A_ACCEPTED': Timedelta('0 days 00:03:36.181179829'),\n",
       "  'O_SELECTED': Timedelta('0 days 00:00:03.477871752'),\n",
       "  'A_FINALIZED': Timedelta('0 days 00:00:03.485652810'),\n",
       "  'O_CREATED': Timedelta('0 days 00:00:00.061232263'),\n",
       "  'W_Completeren aanvraag': Timedelta('1 days 11:44:56.497407407'),\n",
       "  'W_Nabellen offertes': Timedelta('3 days 03:47:01.654504669'),\n",
       "  'O_SENT_BACK': Timedelta('0 days 00:00:01.953301876'),\n",
       "  'A_REGISTERED': Timedelta('0 days 00:00:00.000100478'),\n",
       "  'A_APPROVED': Timedelta('0 days 00:00:00.000305389'),\n",
       "  'O_ACCEPTED': Timedelta('0 days 00:00:00.000502109'),\n",
       "  'A_ACTIVATED': Timedelta('0 days 00:00:08.076501724'),\n",
       "  'W_Valideren aanvraag': Timedelta('-2 days +08:38:02.839627684'),\n",
       "  'O_SENT': Timedelta('0 days 00:00:01.783571111'),\n",
       "  'O_CANCELLED': Timedelta('0 days 00:00:02.468191729'),\n",
       "  'A_DECLINED': Timedelta('-1 days +22:29:29.746617473'),\n",
       "  'A_CANCELLED': Timedelta('0 days 00:00:00.000112204'),\n",
       "  'W_Afhandelen leads': Timedelta('-1 days +23:27:36.806607797'),\n",
       "  'O_DECLINED': Timedelta('0 days 00:00:00'),\n",
       "  'W_Nabellen incomplete dossiers': Timedelta('0 days 17:04:46.796691579'),\n",
       "  'W_Beoordelen fraude': Timedelta('0 days 16:35:57.700057692')})"
      ]
     },
     "execution_count": 8,
     "metadata": {},
     "output_type": "execute_result"
    }
   ],
   "source": [
    "all_expected_events = add_expected_events(df_train)\n",
    "all_expected_events"
   ]
  },
  {
   "cell_type": "code",
   "execution_count": 10,
   "metadata": {},
   "outputs": [],
   "source": [
    "#creates column with predicted data\n",
    "def prediction(prev):\n",
    "    return all_expected_events[0][prev]\n",
    "\n",
    "df_test['predicted'] = df_test['concept:name'].apply(prediction)"
   ]
  },
  {
   "cell_type": "code",
   "execution_count": 56,
   "metadata": {},
   "outputs": [],
   "source": [
    "#function that creates the 'correct' using a dataframe, the predcting column and the true column, it shows wether the prediction was correct\n",
    "def create_correct_column(df, predicted, actual):\n",
    "    \n",
    "    df['correct'] = np.nan\n",
    "    df['shifted_actual'] = df[actual].shift(-1)\n",
    "    df['shifted_case_id'] = df['case_id'].shift(-1)\n",
    "    \n",
    "    def apply_function(var):\n",
    "        if var[2] == var[3]:\n",
    "            return (var[0] == var[1])\n",
    "        \n",
    "        else:\n",
    "            return (var[0] == 'editor:close_case')\n",
    "        \n",
    "    df['correct'] = df[[predicted, 'shifted_actual', 'case_id', 'shifted_case_id']].apply(apply_function, axis=1)\n",
    "    df = df.drop(['shifted_actual', 'shifted_case_id'], axis=1)\n",
    "    \n",
    "    return df"
   ]
  },
  {
   "cell_type": "code",
   "execution_count": 57,
   "metadata": {},
   "outputs": [],
   "source": [
    "df_test = create_correct_column(df_test, 'predicted', 'concept:name')"
   ]
  },
  {
   "cell_type": "code",
   "execution_count": 58,
   "metadata": {},
   "outputs": [
    {
     "data": {
      "text/plain": [
       "0.5263960737498342"
      ]
     },
     "execution_count": 58,
     "metadata": {},
     "output_type": "execute_result"
    }
   ],
   "source": [
    "#the amount of predictions that where correct\n",
    "list(df_test['correct']).count(True)/len(list(df_test['correct']))"
   ]
  },
  {
   "cell_type": "code",
   "execution_count": 59,
   "metadata": {},
   "outputs": [],
   "source": [
    "#create column with predicted time\n",
    "def prediction(prev):\n",
    "    return all_expected_events[1][prev]\n",
    "\n",
    "df_test['time:between_predicted'] = df_test['concept:name'].apply(prediction)"
   ]
  },
  {
   "cell_type": "code",
   "execution_count": 60,
   "metadata": {},
   "outputs": [],
   "source": [
    "#create column with absolute difference between predicted time and actual time\n",
    "def create_time_difference_column(df, correct, time_between, predicted_time_between):\n",
    "    def time_difference(var):\n",
    "        return abs((var[0] - var[1]).total_seconds())\n",
    "\n",
    "    def time_difference_if_correct(var):\n",
    "        if var[0]:\n",
    "            return abs((var[1] - var[2]).total_seconds())\n",
    "        else:\n",
    "            return 0\n",
    "\n",
    "    df['time:absolute_predicton_off'] = df[[time_between, predicted_time_between]].apply(time_difference, axis=1)\n",
    "    df['time:absolute_predicton_correct'] = df[[correct, time_between, predicted_time_between]].apply(time_difference_if_correct, axis=1)\n",
    "    \n",
    "    def time_difference(var):\n",
    "        return (var[0] - var[1]).total_seconds()\n",
    "\n",
    "    def time_difference_if_correct(var):\n",
    "        if var[0]:\n",
    "            return (var[1] - var[2]).total_seconds()\n",
    "        else:\n",
    "            return 0\n",
    "\n",
    "    df['time:relative_predicton_off'] = df[[time_between, predicted_time_between]].apply(time_difference, axis=1)\n",
    "    df['time:relative_predicton_correct'] = df[[correct, time_between, predicted_time_between]].apply(time_difference_if_correct, axis=1)\n",
    "    \n",
    "    return df"
   ]
  },
  {
   "cell_type": "code",
   "execution_count": 61,
   "metadata": {},
   "outputs": [],
   "source": [
    "df_test = create_time_difference_column(df_test, 'correct', 'time:time_between', 'time:between_predicted')"
   ]
  },
  {
   "cell_type": "code",
   "execution_count": 62,
   "metadata": {},
   "outputs": [
    {
     "name": "stdout",
     "output_type": "stream",
     "text": [
      "81200.43102518856, 1353.340517086476, 22.5556752847746, 0.939819803532275\n",
      "38950.3112549361, 649.171854248935, 10.819530904148916, 0.4508137876728715\n"
     ]
    }
   ],
   "source": [
    "#mean of the absolute time\n",
    "seconds = df_test['time:absolute_predicton_off'].mean()\n",
    "minutes = seconds/60\n",
    "hours = minutes/60\n",
    "days = hours/24\n",
    "print(str(seconds) + ', ' + str(minutes) + ', ' + str(hours) + ', ' + str(days))\n",
    "\n",
    "seconds = df_test['time:absolute_predicton_correct'].mean()\n",
    "minutes = seconds/60\n",
    "hours = minutes/60\n",
    "days = hours/24\n",
    "print(str(seconds) + ', ' + str(minutes) + ', ' + str(hours) + ', ' + str(days))"
   ]
  },
  {
   "cell_type": "code",
   "execution_count": 63,
   "metadata": {},
   "outputs": [
    {
     "name": "stdout",
     "output_type": "stream",
     "text": [
      "7725.5756010000005, 128.75959335000002, 2.1459932225000005, 0.08941638427083336\n",
      "0.568152, 0.0094692, 0.00015782, 6.575833333333333e-06\n"
     ]
    }
   ],
   "source": [
    "#median of the absolute time\n",
    "seconds = df_test['time:absolute_predicton_off'].median()\n",
    "minutes = seconds/60\n",
    "hours = minutes/60\n",
    "days = hours/24\n",
    "print(str(seconds) + ', ' + str(minutes) + ', ' + str(hours) + ', ' + str(days))\n",
    "\n",
    "seconds = df_test['time:absolute_predicton_correct'].median()\n",
    "minutes = seconds/60\n",
    "hours = minutes/60\n",
    "days = hours/24\n",
    "print(str(seconds) + ', ' + str(minutes) + ', ' + str(hours) + ', ' + str(days))"
   ]
  },
  {
   "cell_type": "code",
   "execution_count": 64,
   "metadata": {},
   "outputs": [
    {
     "data": {
      "text/plain": [
       "<AxesSubplot:>"
      ]
     },
     "execution_count": 64,
     "metadata": {},
     "output_type": "execute_result"
    },
    {
     "data": {
      "image/png": "[encoded data removed]",
      "text/plain": [
       "<Figure size 432x288 with 1 Axes>"
      ]
     },
     "metadata": {
      "needs_background": "light"
     },
     "output_type": "display_data"
    }
   ],
   "source": [
    "df_test['time:absolute_predicton_off'].hist(bins=10)"
   ]
  },
  {
   "cell_type": "code",
   "execution_count": 65,
   "metadata": {},
   "outputs": [
    {
     "name": "stdout",
     "output_type": "stream",
     "text": [
      "159.6534954544056, 2.66089159090676, 0.04434819318177933, 0.0018478413825741386\n",
      "453.40609374965914, 7.556768229160985, 0.12594613715268307, 0.005247755714695128\n"
     ]
    }
   ],
   "source": [
    "#mean of the relative time\n",
    "seconds = df_test['time:relative_predicton_off'].mean()\n",
    "minutes = seconds/60\n",
    "hours = minutes/60\n",
    "days = hours/24\n",
    "print(str(seconds) + ', ' + str(minutes) + ', ' + str(hours) + ', ' + str(days))\n",
    "\n",
    "seconds = df_test['time:relative_predicton_correct'].mean()\n",
    "minutes = seconds/60\n",
    "hours = minutes/60\n",
    "days = hours/24\n",
    "print(str(seconds) + ', ' + str(minutes) + ', ' + str(hours) + ', ' + str(days))"
   ]
  },
  {
   "cell_type": "code",
   "execution_count": 68,
   "metadata": {},
   "outputs": [
    {
     "name": "stdout",
     "output_type": "stream",
     "text": [
      "-1.747572, -0.029126199999999998, -0.00048543666666666665, -2.0226527777777776e-05\n",
      "0.0, 0.0, 0.0, 0.0\n"
     ]
    }
   ],
   "source": [
    "#median of the relative time\n",
    "seconds = df_test['time:relative_predicton_off'].median()\n",
    "minutes = seconds/60\n",
    "hours = minutes/60\n",
    "days = hours/24\n",
    "print(str(seconds) + ', ' + str(minutes) + ', ' + str(hours) + ', ' + str(days))\n",
    "\n",
    "seconds = df_test['time:relative_predicton_correct'].median()\n",
    "minutes = seconds/60\n",
    "hours = minutes/60\n",
    "days = hours/24\n",
    "print(str(seconds) + ', ' + str(minutes) + ', ' + str(hours) + ', ' + str(days))"
   ]
  },
  {
   "cell_type": "code",
   "execution_count": 69,
   "metadata": {},
   "outputs": [
    {
     "data": {
      "text/plain": [
       "<AxesSubplot:>"
      ]
     },
     "execution_count": 69,
     "metadata": {},
     "output_type": "execute_result"
    },
    {
     "data": {
      "image/png": "[encoded data removed]",
      "text/plain": [
       "<Figure size 432x288 with 1 Axes>"
      ]
     },
     "metadata": {
      "needs_background": "light"
     },
     "output_type": "display_data"
    }
   ],
   "source": [
    "df_test['time:relative_predicton_off'].hist(bins=10)"
   ]
  }
 ],
 "metadata": {
  "kernelspec": {
   "display_name": "Python 3",
   "language": "python",
   "name": "python3"
  },
  "language_info": {
   "codemirror_mode": {
    "name": "ipython",
    "version": 3
   },
   "file_extension": ".py",
   "mimetype": "text/x-python",
   "name": "python",
   "nbconvert_exporter": "python",
   "pygments_lexer": "ipython3",
   "version": "3.7.3"
  }
 },
 "nbformat": 4,
 "nbformat_minor": 4
}
